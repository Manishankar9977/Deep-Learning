{
  "nbformat": 4,
  "nbformat_minor": 0,
  "metadata": {
    "colab": {
      "provenance": [],
      "collapsed_sections": []
    },
    "kernelspec": {
      "name": "python3",
      "display_name": "Python 3"
    },
    "language_info": {
      "name": "python"
    }
  },
  "cells": [
    {
      "cell_type": "markdown",
      "source": [
        "GRADIENT DESCENT"
      ],
      "metadata": {
        "id": "yY6j_PyaOsOg"
      }
    },
    {
      "cell_type": "code",
      "execution_count": null,
      "metadata": {
        "colab": {
          "base_uri": "https://localhost:8080/"
        },
        "id": "vCQjwBYj-2oZ",
        "outputId": "ce02b335-a48a-40a8-cc97-7c824a09248e"
      },
      "outputs": [
        {
          "output_type": "stream",
          "name": "stdout",
          "text": [
            "[(5.1, 54), (6.2, 75), (5.8, 67), (5.5, 65), (5.0, 54), (5.3, 59), (6.0, 69)]\n"
          ]
        }
      ],
      "source": [
        "import pandas as pd\n",
        "# Initialization of m and c\n",
        "m = 0\n",
        "c = 0\n",
        "\n",
        "# X - height  Y - weight\n",
        "\n",
        "X = [5.1, 6.2, 5.8, 5.5, 5.0, 5.3, 6.0]\n",
        "Y = [54, 75, 67, 65, 54, 59, 69]\n",
        "\n",
        "# To create a list of X, Y pair\n",
        "print(list(zip(X,Y)))\n",
        "\n",
        "\n"
      ]
    },
    {
      "cell_type": "code",
      "source": [
        "data = pd.DataFrame(list(zip(X, Y)), columns =['X', 'Y']) \n",
        "\n",
        "\n",
        "print(data.head())\n"
      ],
      "metadata": {
        "colab": {
          "base_uri": "https://localhost:8080/"
        },
        "id": "vpMeVafRBgex",
        "outputId": "36bb8341-427c-4bfa-ff19-626fbe86590e"
      },
      "execution_count": null,
      "outputs": [
        {
          "output_type": "stream",
          "name": "stdout",
          "text": [
            "     X   Y\n",
            "0  5.1  54\n",
            "1  6.2  75\n",
            "2  5.8  67\n",
            "3  5.5  65\n",
            "4  5.0  54\n"
          ]
        }
      ]
    },
    {
      "cell_type": "code",
      "source": [
        "X = data.iloc[:, 0]\n",
        "Y = data.iloc[:, 1]\n",
        "\n",
        "# The learning Rate\n",
        "L = 0.0001\n",
        "\n",
        "# The number of iterations to perform gradient descent\n",
        "epochs = 1000\n",
        "\n",
        "# Number of elements in X\n",
        "n = float(len(X))  \n"
      ],
      "metadata": {
        "id": "0V7ADK41BobF"
      },
      "execution_count": null,
      "outputs": []
    },
    {
      "cell_type": "code",
      "source": [
        "# Performing Gradient Descent \n",
        "import numpy as np\n",
        "for i in range(epochs):\n",
        "    Y_pred = m * X + c  # The current predicted value of Y\n",
        "    D_m = (-2 / n) * sum(X * (Y - Y_pred))  # Derivative wrt m\n",
        "    D_c = (-2 / n) * sum(Y - Y_pred)  # Derivative wrt c    \n",
        "    m = m - L * D_m  # Update m\n",
        "    c = c - L * D_c  # Update c\n",
        "    loss = np.divide(np.sum((Y-Y_pred)**2, axis=0), X.shape[0])\n",
        "print(m, c , loss)\n",
        "\n",
        "\n",
        "\n",
        "def predict(x):\n",
        "    return m * x + c\n",
        "def loss(u):\n",
        "  return np.divide(np.sum((Y-(m*u+c))**2, axis=0),X.shape[0]) \n",
        "pred=predict(6.0)\n",
        "print(pred)\n"
      ],
      "metadata": {
        "colab": {
          "base_uri": "https://localhost:8080/"
        },
        "id": "OFkR5qxYBo5Z",
        "outputId": "ca3e4663-e306-46bb-869c-92649bf2e41e"
      },
      "execution_count": null,
      "outputs": [
        {
          "output_type": "stream",
          "name": "stdout",
          "text": [
            "11.054217552953162 1.9396429551719239 8.327368657202605\n",
            "68.26494827289089\n"
          ]
        }
      ]
    },
    {
      "cell_type": "markdown",
      "source": [
        "Stochastic Gradient descent\n"
      ],
      "metadata": {
        "id": "uzaUj-ZwO4hg"
      }
    },
    {
      "cell_type": "code",
      "source": [
        "import numpy as np\n",
        "import pandas as pd\n",
        "import matplotlib.pyplot as plt\n",
        "from matplotlib import style\n",
        "style.use(\"fivethirtyeight\")\n",
        "import seaborn as sns\n",
        "import warnings\n",
        "warnings.filterwarnings(\"ignore\")"
      ],
      "metadata": {
        "id": "Y5KpPwJ1vfRr"
      },
      "execution_count": null,
      "outputs": []
    },
    {
      "cell_type": "code",
      "source": [
        "data = pd.read_csv('Salary.csv')"
      ],
      "metadata": {
        "id": "ZwmWRLjTvj_E"
      },
      "execution_count": null,
      "outputs": []
    },
    {
      "cell_type": "code",
      "source": [
        "data"
      ],
      "metadata": {
        "colab": {
          "base_uri": "https://localhost:8080/",
          "height": 990
        },
        "id": "vy6c6dPwvkw5",
        "outputId": "3dd7a6c8-01b2-442e-ef4f-890053251eee"
      },
      "execution_count": null,
      "outputs": [
        {
          "output_type": "execute_result",
          "data": {
            "text/plain": [
              "    YearsExperience  Salary  age  company_change          type\n",
              "0               1.1   39343   21               1        junior\n",
              "1               1.3   46205   31               0        middle\n",
              "2               1.5   37731   29               1        middle\n",
              "3               2.0   43525   30               1        middle\n",
              "4               2.2   39891   27               1        middle\n",
              "5               2.9   56642   36               0        middle\n",
              "6               3.0   60150   30               0        middle\n",
              "7               3.2   54445   34               1        middle\n",
              "8               3.2   64445   29               0        middle\n",
              "9               3.7   57189   36               1        middle\n",
              "10              3.9   63218   33               0        middle\n",
              "11              4.0   55794   37               1        middle\n",
              "12              4.0   56957   29               1        middle\n",
              "13              4.1   57081   27               1        middle\n",
              "14              4.5   61111   25               1        junior\n",
              "15              4.9   67938   29               0        middle\n",
              "16              5.1   66029   38               0        middle\n",
              "17              5.3   83088   39               0        middle\n",
              "18              5.9   81363   37               0        middle\n",
              "19              6.0   93940   40               0        senior\n",
              "20              6.8   91738   37               1        middle\n",
              "21              7.1   98273   34               1        middle\n",
              "22              7.9  101302   29               0        middle\n",
              "23              8.2  113812   42               0        senior\n",
              "24              8.7  109431   43               0        senior\n",
              "25              9.0  105582   39               0        middle\n",
              "26              9.5  116969   45               0        senior\n",
              "27              9.6  112635   37               0        middle\n",
              "28             10.3  122391   29               0        middle\n",
              "29             10.5  121872   56               0  super senior"
            ],
            "text/html": [
              "\n",
              "  <div id=\"df-54f096e0-27d3-423d-9004-1cf0a4048a4e\">\n",
              "    <div class=\"colab-df-container\">\n",
              "      <div>\n",
              "<style scoped>\n",
              "    .dataframe tbody tr th:only-of-type {\n",
              "        vertical-align: middle;\n",
              "    }\n",
              "\n",
              "    .dataframe tbody tr th {\n",
              "        vertical-align: top;\n",
              "    }\n",
              "\n",
              "    .dataframe thead th {\n",
              "        text-align: right;\n",
              "    }\n",
              "</style>\n",
              "<table border=\"1\" class=\"dataframe\">\n",
              "  <thead>\n",
              "    <tr style=\"text-align: right;\">\n",
              "      <th></th>\n",
              "      <th>YearsExperience</th>\n",
              "      <th>Salary</th>\n",
              "      <th>age</th>\n",
              "      <th>company_change</th>\n",
              "      <th>type</th>\n",
              "    </tr>\n",
              "  </thead>\n",
              "  <tbody>\n",
              "    <tr>\n",
              "      <th>0</th>\n",
              "      <td>1.1</td>\n",
              "      <td>39343</td>\n",
              "      <td>21</td>\n",
              "      <td>1</td>\n",
              "      <td>junior</td>\n",
              "    </tr>\n",
              "    <tr>\n",
              "      <th>1</th>\n",
              "      <td>1.3</td>\n",
              "      <td>46205</td>\n",
              "      <td>31</td>\n",
              "      <td>0</td>\n",
              "      <td>middle</td>\n",
              "    </tr>\n",
              "    <tr>\n",
              "      <th>2</th>\n",
              "      <td>1.5</td>\n",
              "      <td>37731</td>\n",
              "      <td>29</td>\n",
              "      <td>1</td>\n",
              "      <td>middle</td>\n",
              "    </tr>\n",
              "    <tr>\n",
              "      <th>3</th>\n",
              "      <td>2.0</td>\n",
              "      <td>43525</td>\n",
              "      <td>30</td>\n",
              "      <td>1</td>\n",
              "      <td>middle</td>\n",
              "    </tr>\n",
              "    <tr>\n",
              "      <th>4</th>\n",
              "      <td>2.2</td>\n",
              "      <td>39891</td>\n",
              "      <td>27</td>\n",
              "      <td>1</td>\n",
              "      <td>middle</td>\n",
              "    </tr>\n",
              "    <tr>\n",
              "      <th>5</th>\n",
              "      <td>2.9</td>\n",
              "      <td>56642</td>\n",
              "      <td>36</td>\n",
              "      <td>0</td>\n",
              "      <td>middle</td>\n",
              "    </tr>\n",
              "    <tr>\n",
              "      <th>6</th>\n",
              "      <td>3.0</td>\n",
              "      <td>60150</td>\n",
              "      <td>30</td>\n",
              "      <td>0</td>\n",
              "      <td>middle</td>\n",
              "    </tr>\n",
              "    <tr>\n",
              "      <th>7</th>\n",
              "      <td>3.2</td>\n",
              "      <td>54445</td>\n",
              "      <td>34</td>\n",
              "      <td>1</td>\n",
              "      <td>middle</td>\n",
              "    </tr>\n",
              "    <tr>\n",
              "      <th>8</th>\n",
              "      <td>3.2</td>\n",
              "      <td>64445</td>\n",
              "      <td>29</td>\n",
              "      <td>0</td>\n",
              "      <td>middle</td>\n",
              "    </tr>\n",
              "    <tr>\n",
              "      <th>9</th>\n",
              "      <td>3.7</td>\n",
              "      <td>57189</td>\n",
              "      <td>36</td>\n",
              "      <td>1</td>\n",
              "      <td>middle</td>\n",
              "    </tr>\n",
              "    <tr>\n",
              "      <th>10</th>\n",
              "      <td>3.9</td>\n",
              "      <td>63218</td>\n",
              "      <td>33</td>\n",
              "      <td>0</td>\n",
              "      <td>middle</td>\n",
              "    </tr>\n",
              "    <tr>\n",
              "      <th>11</th>\n",
              "      <td>4.0</td>\n",
              "      <td>55794</td>\n",
              "      <td>37</td>\n",
              "      <td>1</td>\n",
              "      <td>middle</td>\n",
              "    </tr>\n",
              "    <tr>\n",
              "      <th>12</th>\n",
              "      <td>4.0</td>\n",
              "      <td>56957</td>\n",
              "      <td>29</td>\n",
              "      <td>1</td>\n",
              "      <td>middle</td>\n",
              "    </tr>\n",
              "    <tr>\n",
              "      <th>13</th>\n",
              "      <td>4.1</td>\n",
              "      <td>57081</td>\n",
              "      <td>27</td>\n",
              "      <td>1</td>\n",
              "      <td>middle</td>\n",
              "    </tr>\n",
              "    <tr>\n",
              "      <th>14</th>\n",
              "      <td>4.5</td>\n",
              "      <td>61111</td>\n",
              "      <td>25</td>\n",
              "      <td>1</td>\n",
              "      <td>junior</td>\n",
              "    </tr>\n",
              "    <tr>\n",
              "      <th>15</th>\n",
              "      <td>4.9</td>\n",
              "      <td>67938</td>\n",
              "      <td>29</td>\n",
              "      <td>0</td>\n",
              "      <td>middle</td>\n",
              "    </tr>\n",
              "    <tr>\n",
              "      <th>16</th>\n",
              "      <td>5.1</td>\n",
              "      <td>66029</td>\n",
              "      <td>38</td>\n",
              "      <td>0</td>\n",
              "      <td>middle</td>\n",
              "    </tr>\n",
              "    <tr>\n",
              "      <th>17</th>\n",
              "      <td>5.3</td>\n",
              "      <td>83088</td>\n",
              "      <td>39</td>\n",
              "      <td>0</td>\n",
              "      <td>middle</td>\n",
              "    </tr>\n",
              "    <tr>\n",
              "      <th>18</th>\n",
              "      <td>5.9</td>\n",
              "      <td>81363</td>\n",
              "      <td>37</td>\n",
              "      <td>0</td>\n",
              "      <td>middle</td>\n",
              "    </tr>\n",
              "    <tr>\n",
              "      <th>19</th>\n",
              "      <td>6.0</td>\n",
              "      <td>93940</td>\n",
              "      <td>40</td>\n",
              "      <td>0</td>\n",
              "      <td>senior</td>\n",
              "    </tr>\n",
              "    <tr>\n",
              "      <th>20</th>\n",
              "      <td>6.8</td>\n",
              "      <td>91738</td>\n",
              "      <td>37</td>\n",
              "      <td>1</td>\n",
              "      <td>middle</td>\n",
              "    </tr>\n",
              "    <tr>\n",
              "      <th>21</th>\n",
              "      <td>7.1</td>\n",
              "      <td>98273</td>\n",
              "      <td>34</td>\n",
              "      <td>1</td>\n",
              "      <td>middle</td>\n",
              "    </tr>\n",
              "    <tr>\n",
              "      <th>22</th>\n",
              "      <td>7.9</td>\n",
              "      <td>101302</td>\n",
              "      <td>29</td>\n",
              "      <td>0</td>\n",
              "      <td>middle</td>\n",
              "    </tr>\n",
              "    <tr>\n",
              "      <th>23</th>\n",
              "      <td>8.2</td>\n",
              "      <td>113812</td>\n",
              "      <td>42</td>\n",
              "      <td>0</td>\n",
              "      <td>senior</td>\n",
              "    </tr>\n",
              "    <tr>\n",
              "      <th>24</th>\n",
              "      <td>8.7</td>\n",
              "      <td>109431</td>\n",
              "      <td>43</td>\n",
              "      <td>0</td>\n",
              "      <td>senior</td>\n",
              "    </tr>\n",
              "    <tr>\n",
              "      <th>25</th>\n",
              "      <td>9.0</td>\n",
              "      <td>105582</td>\n",
              "      <td>39</td>\n",
              "      <td>0</td>\n",
              "      <td>middle</td>\n",
              "    </tr>\n",
              "    <tr>\n",
              "      <th>26</th>\n",
              "      <td>9.5</td>\n",
              "      <td>116969</td>\n",
              "      <td>45</td>\n",
              "      <td>0</td>\n",
              "      <td>senior</td>\n",
              "    </tr>\n",
              "    <tr>\n",
              "      <th>27</th>\n",
              "      <td>9.6</td>\n",
              "      <td>112635</td>\n",
              "      <td>37</td>\n",
              "      <td>0</td>\n",
              "      <td>middle</td>\n",
              "    </tr>\n",
              "    <tr>\n",
              "      <th>28</th>\n",
              "      <td>10.3</td>\n",
              "      <td>122391</td>\n",
              "      <td>29</td>\n",
              "      <td>0</td>\n",
              "      <td>middle</td>\n",
              "    </tr>\n",
              "    <tr>\n",
              "      <th>29</th>\n",
              "      <td>10.5</td>\n",
              "      <td>121872</td>\n",
              "      <td>56</td>\n",
              "      <td>0</td>\n",
              "      <td>super senior</td>\n",
              "    </tr>\n",
              "  </tbody>\n",
              "</table>\n",
              "</div>\n",
              "      <button class=\"colab-df-convert\" onclick=\"convertToInteractive('df-54f096e0-27d3-423d-9004-1cf0a4048a4e')\"\n",
              "              title=\"Convert this dataframe to an interactive table.\"\n",
              "              style=\"display:none;\">\n",
              "        \n",
              "  <svg xmlns=\"http://www.w3.org/2000/svg\" height=\"24px\"viewBox=\"0 0 24 24\"\n",
              "       width=\"24px\">\n",
              "    <path d=\"M0 0h24v24H0V0z\" fill=\"none\"/>\n",
              "    <path d=\"M18.56 5.44l.94 2.06.94-2.06 2.06-.94-2.06-.94-.94-2.06-.94 2.06-2.06.94zm-11 1L8.5 8.5l.94-2.06 2.06-.94-2.06-.94L8.5 2.5l-.94 2.06-2.06.94zm10 10l.94 2.06.94-2.06 2.06-.94-2.06-.94-.94-2.06-.94 2.06-2.06.94z\"/><path d=\"M17.41 7.96l-1.37-1.37c-.4-.4-.92-.59-1.43-.59-.52 0-1.04.2-1.43.59L10.3 9.45l-7.72 7.72c-.78.78-.78 2.05 0 2.83L4 21.41c.39.39.9.59 1.41.59.51 0 1.02-.2 1.41-.59l7.78-7.78 2.81-2.81c.8-.78.8-2.07 0-2.86zM5.41 20L4 18.59l7.72-7.72 1.47 1.35L5.41 20z\"/>\n",
              "  </svg>\n",
              "      </button>\n",
              "      \n",
              "  <style>\n",
              "    .colab-df-container {\n",
              "      display:flex;\n",
              "      flex-wrap:wrap;\n",
              "      gap: 12px;\n",
              "    }\n",
              "\n",
              "    .colab-df-convert {\n",
              "      background-color: #E8F0FE;\n",
              "      border: none;\n",
              "      border-radius: 50%;\n",
              "      cursor: pointer;\n",
              "      display: none;\n",
              "      fill: #1967D2;\n",
              "      height: 32px;\n",
              "      padding: 0 0 0 0;\n",
              "      width: 32px;\n",
              "    }\n",
              "\n",
              "    .colab-df-convert:hover {\n",
              "      background-color: #E2EBFA;\n",
              "      box-shadow: 0px 1px 2px rgba(60, 64, 67, 0.3), 0px 1px 3px 1px rgba(60, 64, 67, 0.15);\n",
              "      fill: #174EA6;\n",
              "    }\n",
              "\n",
              "    [theme=dark] .colab-df-convert {\n",
              "      background-color: #3B4455;\n",
              "      fill: #D2E3FC;\n",
              "    }\n",
              "\n",
              "    [theme=dark] .colab-df-convert:hover {\n",
              "      background-color: #434B5C;\n",
              "      box-shadow: 0px 1px 3px 1px rgba(0, 0, 0, 0.15);\n",
              "      filter: drop-shadow(0px 1px 2px rgba(0, 0, 0, 0.3));\n",
              "      fill: #FFFFFF;\n",
              "    }\n",
              "  </style>\n",
              "\n",
              "      <script>\n",
              "        const buttonEl =\n",
              "          document.querySelector('#df-54f096e0-27d3-423d-9004-1cf0a4048a4e button.colab-df-convert');\n",
              "        buttonEl.style.display =\n",
              "          google.colab.kernel.accessAllowed ? 'block' : 'none';\n",
              "\n",
              "        async function convertToInteractive(key) {\n",
              "          const element = document.querySelector('#df-54f096e0-27d3-423d-9004-1cf0a4048a4e');\n",
              "          const dataTable =\n",
              "            await google.colab.kernel.invokeFunction('convertToInteractive',\n",
              "                                                     [key], {});\n",
              "          if (!dataTable) return;\n",
              "\n",
              "          const docLinkHtml = 'Like what you see? Visit the ' +\n",
              "            '<a target=\"_blank\" href=https://colab.research.google.com/notebooks/data_table.ipynb>data table notebook</a>'\n",
              "            + ' to learn more about interactive tables.';\n",
              "          element.innerHTML = '';\n",
              "          dataTable['output_type'] = 'display_data';\n",
              "          await google.colab.output.renderOutput(dataTable, element);\n",
              "          const docLink = document.createElement('div');\n",
              "          docLink.innerHTML = docLinkHtml;\n",
              "          element.appendChild(docLink);\n",
              "        }\n",
              "      </script>\n",
              "    </div>\n",
              "  </div>\n",
              "  "
            ]
          },
          "metadata": {},
          "execution_count": 19
        }
      ]
    },
    {
      "cell_type": "code",
      "source": [
        "x=np.array(data['YearsExperience'])\n",
        "y=np.array(data['Salary'])\n",
        "l=len(x)"
      ],
      "metadata": {
        "id": "FqURvLp8vtKa"
      },
      "execution_count": null,
      "outputs": []
    },
    {
      "cell_type": "code",
      "source": [
        "from sklearn.model_selection import train_test_split"
      ],
      "metadata": {
        "id": "Lh5BvKjDvvPm"
      },
      "execution_count": null,
      "outputs": []
    },
    {
      "cell_type": "code",
      "source": [
        "x_train,x_test,y_train,y_test=train_test_split(x,y,random_state=6)\n",
        "lx=len(x_train)"
      ],
      "metadata": {
        "id": "D1mCq_Tzvwvt"
      },
      "execution_count": null,
      "outputs": []
    },
    {
      "cell_type": "code",
      "source": [
        "m=0.1\n",
        "c=0.5\n",
        "alpha=0.01\n",
        "n=5000\n",
        "for i in range(n):\n",
        "    slope=0\n",
        "    intercept=0\n",
        "    for j in range(lx):\n",
        "        random_index=np.random.randint(lx)\n",
        "        intercept=intercept+((m*x_train[random_index:random_index+1]+c)-y_train[random_index:random_index+1])\n",
        "        slope=slope+((m*x_train[random_index:random_index+1]+c)-y_train[random_index:random_index+1])*x_train[random_index:random_index+1]\n",
        "        c=c-alpha*(intercept/lx)\n",
        "        m=m-alpha*(slope/lx)"
      ],
      "metadata": {
        "id": "H8u4ujIIvyw5"
      },
      "execution_count": null,
      "outputs": []
    },
    {
      "cell_type": "code",
      "source": [
        "print(f\"slope is {m}\")\n",
        "print(f\"intercept is {c}\")"
      ],
      "metadata": {
        "colab": {
          "base_uri": "https://localhost:8080/"
        },
        "id": "qJ0U88rLv0sr",
        "outputId": "7605e66a-5b4a-4b6c-b4a9-49228b94a7fc"
      },
      "execution_count": null,
      "outputs": [
        {
          "output_type": "stream",
          "name": "stdout",
          "text": [
            "slope is [9326.60658728]\n",
            "intercept is [23698.63141981]\n"
          ]
        }
      ]
    },
    {
      "cell_type": "code",
      "source": [
        "y_pred=np.dot(m[0],x_test)+c[0]\n",
        "y_pred"
      ],
      "metadata": {
        "colab": {
          "base_uri": "https://localhost:8080/"
        },
        "id": "FmU8HMTlv2b7",
        "outputId": "11083cd5-c83c-42a4-f1ea-d8dbf98965a0"
      },
      "execution_count": null,
      "outputs": [
        {
          "output_type": "execute_result",
          "data": {
            "text/plain": [
              "array([ 33957.89866582, 119762.67926884, 113234.05465774,  51678.45118166,\n",
              "        73129.64633242,  79658.27094352,  53543.77249912,  50745.79052293])"
            ]
          },
          "metadata": {},
          "execution_count": 25
        }
      ]
    },
    {
      "cell_type": "code",
      "source": [
        "from sklearn.metrics import mean_squared_error,r2_score,mean_absolute_error\n",
        "from sklearn.metrics import explained_variance_score"
      ],
      "metadata": {
        "id": "hkNx2WGVv4Q4"
      },
      "execution_count": null,
      "outputs": []
    },
    {
      "cell_type": "code",
      "source": [
        "print(mean_squared_error(y_test,y_pred))\n",
        "print(np.sqrt(mean_squared_error(y_test,y_pred)))\n",
        "print(mean_absolute_error(y_test,y_pred))\n",
        "print(explained_variance_score(y_test,y_pred))\n",
        "print(r2_score(y_test,y_pred))"
      ],
      "metadata": {
        "colab": {
          "base_uri": "https://localhost:8080/"
        },
        "id": "gJpwQs4Tv6CS",
        "outputId": "05c7fa8a-527a-4758-f985-0cf9f16c1eec"
      },
      "execution_count": null,
      "outputs": [
        {
          "output_type": "stream",
          "name": "stdout",
          "text": [
            "55843435.240863696\n",
            "7472.846528657182\n",
            "6015.193155428713\n",
            "0.9726609951819802\n",
            "0.9287923652824237\n"
          ]
        }
      ]
    },
    {
      "cell_type": "code",
      "source": [],
      "metadata": {
        "id": "_Kau4B69v7aW"
      },
      "execution_count": null,
      "outputs": []
    },
    {
      "cell_type": "markdown",
      "source": [
        "**Mini-batch GD**"
      ],
      "metadata": {
        "id": "lDCXW1vjv9FP"
      }
    },
    {
      "cell_type": "code",
      "source": [
        "class mini_batch_gradient_descent:\n",
        "    \n",
        "    def create_batch(self,x_train,y_train,batch_size):\n",
        "        mini_batches=[]\n",
        "        data=np.stack((x_train,y_train),axis=1)\n",
        "        np.random.shuffle(data)\n",
        "        no_of_batches=x_train.shape[0]//batch_size\n",
        "        for i in range(no_of_batches):\n",
        "            mini_batch=data[i*batch_size:(i+1)*batch_size]\n",
        "            mini_batches.append((mini_batch[:,0],mini_batch[:,1]))\n",
        "        if x_train.shape[0]%batch_size!=0:\n",
        "            mini_batch=data[(i+1)*batch_size:]\n",
        "            mini_batches.append((mini_batch[:,0],mini_batch[:,1]))\n",
        "        return mini_batches\n",
        "\n",
        "    def fit(self,x_train,y_train,alpha,epochs,batch_size):\n",
        "        self.m=np.random.randn(1,1)\n",
        "        self.c=np.random.randn(1,1)\n",
        "        l=len(x_train)\n",
        "        for i in range(epochs):\n",
        "            batches=self.create_batch(x_train,y_train,batch_size)\n",
        "            for batch in batches:\n",
        "                xb=batch[0]\n",
        "                yb=batch[1]\n",
        "                xb=xb.reshape(1,xb.shape[0])\n",
        "                intecept=np.sum((np.dot(self.m,xb)+self.c)-yb)\n",
        "                slope=np.sum(((np.dot(self.m,xb)+self.c)-yb)*xb)\n",
        "                self.m=self.m-alpha*(slope/l)\n",
        "                self.c=self.c-alpha*(intecept/l)\n",
        "\n",
        "    def slope_intercept(self):\n",
        "        print(f\"slope is {self.m[0][0]}\")\n",
        "        print(f\"intecept is {self.c[0][0]}\")\n",
        "      \n",
        "    def predict(self,x_test):\n",
        "        x_test=x_test.reshape(x_test.shape[0],1)\n",
        "        self.m=self.m.reshape(self.m.shape[1],self.m.shape[0])\n",
        "        result=np.dot(x_test,self.m)+self.c\n",
        "        return result"
      ],
      "metadata": {
        "id": "puveQE5swBCo"
      },
      "execution_count": null,
      "outputs": []
    },
    {
      "cell_type": "code",
      "source": [
        "mgd=mini_batch_gradient_descent()"
      ],
      "metadata": {
        "id": "ITJNiuBhwYhb"
      },
      "execution_count": null,
      "outputs": []
    },
    {
      "cell_type": "code",
      "source": [
        "mgd.fit(x_train,y_train,0.01,4000,4)"
      ],
      "metadata": {
        "id": "S37OyPCVwaBo"
      },
      "execution_count": null,
      "outputs": []
    },
    {
      "cell_type": "code",
      "source": [
        "mgd.slope_intercept()"
      ],
      "metadata": {
        "colab": {
          "base_uri": "https://localhost:8080/"
        },
        "id": "z23xWAknwbpC",
        "outputId": "debfb496-3bf0-40d8-c0a7-f0a7e683b70f"
      },
      "execution_count": null,
      "outputs": [
        {
          "output_type": "stream",
          "name": "stdout",
          "text": [
            "slope is 9740.87686044146\n",
            "intecept is 23064.905243988364\n"
          ]
        }
      ]
    },
    {
      "cell_type": "code",
      "source": [
        "y_pred=mgd.predict(x_test)"
      ],
      "metadata": {
        "id": "yeYV7NU7wdLp"
      },
      "execution_count": null,
      "outputs": []
    },
    {
      "cell_type": "code",
      "source": [
        "from sklearn.metrics import mean_squared_error,r2_score,mean_absolute_error\n",
        "from sklearn.metrics import explained_variance_score"
      ],
      "metadata": {
        "id": "reHXv219wgXu"
      },
      "execution_count": null,
      "outputs": []
    },
    {
      "cell_type": "code",
      "source": [
        "print(mean_squared_error(y_test,y_pred))\n",
        "print(np.sqrt(mean_squared_error(y_test,y_pred)))\n",
        "print(mean_absolute_error(y_test,y_pred))\n",
        "print(explained_variance_score(y_test,y_pred))\n",
        "print(r2_score(y_test,y_pred))"
      ],
      "metadata": {
        "colab": {
          "base_uri": "https://localhost:8080/"
        },
        "id": "GjzNpFZCwi2U",
        "outputId": "609aecf4-d6a7-4203-d33e-8a805eec2d48"
      },
      "execution_count": null,
      "outputs": [
        {
          "output_type": "stream",
          "name": "stdout",
          "text": [
            "45344616.12912383\n",
            "6733.8411125541\n",
            "5592.122005917527\n",
            "0.9663672792049028\n",
            "0.9421797235824666\n"
          ]
        }
      ]
    },
    {
      "cell_type": "code",
      "source": [],
      "metadata": {
        "id": "aHs1U4g0wlOe"
      },
      "execution_count": null,
      "outputs": []
    }
  ]
}