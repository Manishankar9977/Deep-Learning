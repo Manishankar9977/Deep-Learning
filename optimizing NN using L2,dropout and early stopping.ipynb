{
  "nbformat": 4,
  "nbformat_minor": 0,
  "metadata": {
    "colab": {
      "provenance": [],
      "collapsed_sections": []
    },
    "kernelspec": {
      "name": "python3",
      "display_name": "Python 3"
    },
    "language_info": {
      "name": "python"
    }
  },
  "cells": [
    {
      "cell_type": "code",
      "source": [
        "import tensorflow as tf\n",
        "import matplotlib.pyplot as plt\n",
        "import numpy as np"
      ],
      "metadata": {
        "id": "25z6aJJZXKVc"
      },
      "execution_count": null,
      "outputs": []
    },
    {
      "cell_type": "code",
      "execution_count": null,
      "metadata": {
        "id": "LXBscB0qRvlX",
        "colab": {
          "base_uri": "https://localhost:8080/"
        },
        "outputId": "aac08af2-3514-4e46-fea9-b0915a41222b"
      },
      "outputs": [
        {
          "output_type": "stream",
          "name": "stdout",
          "text": [
            "Downloading data from https://storage.googleapis.com/tensorflow/tf-keras-datasets/mnist.npz\n",
            "11493376/11490434 [==============================] - 0s 0us/step\n",
            "11501568/11490434 [==============================] - 0s 0us/step\n"
          ]
        }
      ],
      "source": [
        "mnist = tf.keras.datasets.mnist #Get the data\n",
        "\n",
        "(x_train, y_train),(x_test, y_test) = mnist.load_data()\n",
        "\n",
        "x_train = tf.keras.utils.normalize(x_train,axis=1)\n",
        "x_test = tf.keras.utils.normalize(x_test,axis=1)"
      ]
    },
    {
      "cell_type": "code",
      "source": [
        "#Create Neural Network\n",
        "model = tf.keras.models.Sequential()\n",
        "model.add(tf.keras.layers.Flatten())\n",
        "model.add(tf.keras.layers.Dense(128,activation = tf.nn.relu))\n",
        "model.add(tf.keras.layers.Dense(128,activation = tf.nn.relu))\n",
        "model.add(tf.keras.layers.Dense(10,activation = tf.nn.softmax))"
      ],
      "metadata": {
        "id": "46UZw60BXPl8"
      },
      "execution_count": null,
      "outputs": []
    },
    {
      "cell_type": "code",
      "source": [
        "model.compile(optimizer='adam', loss='sparse_categorical_crossentropy',metrics=['accuracy'])"
      ],
      "metadata": {
        "id": "r-FD6D3GXSka"
      },
      "execution_count": null,
      "outputs": []
    },
    {
      "cell_type": "code",
      "source": [
        "model.fit(x_train,y_train,epochs=50) "
      ],
      "metadata": {
        "colab": {
          "base_uri": "https://localhost:8080/"
        },
        "id": "5K2cscg3XVNP",
        "outputId": "b759bf68-2819-4929-94e0-e85b2e6cfd54"
      },
      "execution_count": null,
      "outputs": [
        {
          "output_type": "stream",
          "name": "stdout",
          "text": [
            "Epoch 1/50\n",
            "1875/1875 [==============================] - 6s 3ms/step - loss: 0.2633 - accuracy: 0.9235\n",
            "Epoch 2/50\n",
            "1875/1875 [==============================] - 8s 4ms/step - loss: 0.1074 - accuracy: 0.9674\n",
            "Epoch 3/50\n",
            "1875/1875 [==============================] - 9s 5ms/step - loss: 0.0728 - accuracy: 0.9774\n",
            "Epoch 4/50\n",
            "1875/1875 [==============================] - 7s 4ms/step - loss: 0.0543 - accuracy: 0.9829\n",
            "Epoch 5/50\n",
            "1875/1875 [==============================] - 5s 2ms/step - loss: 0.0417 - accuracy: 0.9862\n",
            "Epoch 6/50\n",
            "1875/1875 [==============================] - 5s 2ms/step - loss: 0.0316 - accuracy: 0.9898\n",
            "Epoch 7/50\n",
            "1875/1875 [==============================] - 5s 2ms/step - loss: 0.0261 - accuracy: 0.9913\n",
            "Epoch 8/50\n",
            "1875/1875 [==============================] - 5s 2ms/step - loss: 0.0210 - accuracy: 0.9927\n",
            "Epoch 9/50\n",
            "1875/1875 [==============================] - 5s 3ms/step - loss: 0.0186 - accuracy: 0.9938\n",
            "Epoch 10/50\n",
            "1875/1875 [==============================] - 5s 3ms/step - loss: 0.0146 - accuracy: 0.9955\n",
            "Epoch 11/50\n",
            "1875/1875 [==============================] - 5s 3ms/step - loss: 0.0130 - accuracy: 0.9956\n",
            "Epoch 12/50\n",
            "1875/1875 [==============================] - 5s 3ms/step - loss: 0.0124 - accuracy: 0.9959\n",
            "Epoch 13/50\n",
            "1875/1875 [==============================] - 5s 3ms/step - loss: 0.0113 - accuracy: 0.9963\n",
            "Epoch 14/50\n",
            "1875/1875 [==============================] - 5s 2ms/step - loss: 0.0116 - accuracy: 0.9960\n",
            "Epoch 15/50\n",
            "1875/1875 [==============================] - 5s 2ms/step - loss: 0.0109 - accuracy: 0.9963\n",
            "Epoch 16/50\n",
            "1875/1875 [==============================] - 5s 2ms/step - loss: 0.0082 - accuracy: 0.9973\n",
            "Epoch 17/50\n",
            "1875/1875 [==============================] - 5s 2ms/step - loss: 0.0095 - accuracy: 0.9966\n",
            "Epoch 18/50\n",
            "1875/1875 [==============================] - 5s 2ms/step - loss: 0.0086 - accuracy: 0.9972\n",
            "Epoch 19/50\n",
            "1875/1875 [==============================] - 5s 3ms/step - loss: 0.0080 - accuracy: 0.9973\n",
            "Epoch 20/50\n",
            "1875/1875 [==============================] - 5s 3ms/step - loss: 0.0067 - accuracy: 0.9980\n",
            "Epoch 21/50\n",
            "1875/1875 [==============================] - 5s 3ms/step - loss: 0.0065 - accuracy: 0.9978\n",
            "Epoch 22/50\n",
            "1875/1875 [==============================] - 5s 3ms/step - loss: 0.0066 - accuracy: 0.9977\n",
            "Epoch 23/50\n",
            "1875/1875 [==============================] - 6s 3ms/step - loss: 0.0085 - accuracy: 0.9974\n",
            "Epoch 24/50\n",
            "1875/1875 [==============================] - 5s 2ms/step - loss: 0.0059 - accuracy: 0.9980\n",
            "Epoch 25/50\n",
            "1875/1875 [==============================] - 5s 2ms/step - loss: 0.0071 - accuracy: 0.9977\n",
            "Epoch 26/50\n",
            "1875/1875 [==============================] - 5s 2ms/step - loss: 0.0060 - accuracy: 0.9982\n",
            "Epoch 27/50\n",
            "1875/1875 [==============================] - 5s 2ms/step - loss: 0.0069 - accuracy: 0.9977\n",
            "Epoch 28/50\n",
            "1875/1875 [==============================] - 5s 2ms/step - loss: 0.0055 - accuracy: 0.9981\n",
            "Epoch 29/50\n",
            "1875/1875 [==============================] - 5s 2ms/step - loss: 0.0070 - accuracy: 0.9980\n",
            "Epoch 30/50\n",
            "1875/1875 [==============================] - 5s 2ms/step - loss: 0.0049 - accuracy: 0.9987\n",
            "Epoch 31/50\n",
            "1875/1875 [==============================] - 5s 2ms/step - loss: 0.0056 - accuracy: 0.9983\n",
            "Epoch 32/50\n",
            "1875/1875 [==============================] - 5s 2ms/step - loss: 0.0067 - accuracy: 0.9978\n",
            "Epoch 33/50\n",
            "1875/1875 [==============================] - 5s 2ms/step - loss: 0.0052 - accuracy: 0.9983\n",
            "Epoch 34/50\n",
            "1875/1875 [==============================] - 5s 3ms/step - loss: 0.0059 - accuracy: 0.9980\n",
            "Epoch 35/50\n",
            "1875/1875 [==============================] - 5s 3ms/step - loss: 0.0050 - accuracy: 0.9985\n",
            "Epoch 36/50\n",
            "1875/1875 [==============================] - 5s 3ms/step - loss: 0.0048 - accuracy: 0.9984\n",
            "Epoch 37/50\n",
            "1875/1875 [==============================] - 5s 3ms/step - loss: 0.0062 - accuracy: 0.9983\n",
            "Epoch 38/50\n",
            "1875/1875 [==============================] - 5s 3ms/step - loss: 0.0053 - accuracy: 0.9984\n",
            "Epoch 39/50\n",
            "1875/1875 [==============================] - 5s 3ms/step - loss: 0.0065 - accuracy: 0.9982\n",
            "Epoch 40/50\n",
            "1875/1875 [==============================] - 5s 3ms/step - loss: 0.0039 - accuracy: 0.9988\n",
            "Epoch 41/50\n",
            "1875/1875 [==============================] - 5s 3ms/step - loss: 0.0047 - accuracy: 0.9986\n",
            "Epoch 42/50\n",
            "1875/1875 [==============================] - 5s 3ms/step - loss: 0.0051 - accuracy: 0.9983\n",
            "Epoch 43/50\n",
            "1875/1875 [==============================] - 5s 3ms/step - loss: 0.0038 - accuracy: 0.9987\n",
            "Epoch 44/50\n",
            "1875/1875 [==============================] - 5s 3ms/step - loss: 0.0049 - accuracy: 0.9983\n",
            "Epoch 45/50\n",
            "1875/1875 [==============================] - 5s 3ms/step - loss: 0.0034 - accuracy: 0.9991\n",
            "Epoch 46/50\n",
            "1875/1875 [==============================] - 5s 3ms/step - loss: 0.0062 - accuracy: 0.9983\n",
            "Epoch 47/50\n",
            "1875/1875 [==============================] - 5s 2ms/step - loss: 0.0030 - accuracy: 0.9991\n",
            "Epoch 48/50\n",
            "1875/1875 [==============================] - 5s 2ms/step - loss: 0.0049 - accuracy: 0.9987\n",
            "Epoch 49/50\n",
            "1875/1875 [==============================] - 5s 3ms/step - loss: 0.0040 - accuracy: 0.9990\n",
            "Epoch 50/50\n",
            "1875/1875 [==============================] - 5s 3ms/step - loss: 0.0062 - accuracy: 0.9983\n"
          ]
        },
        {
          "output_type": "execute_result",
          "data": {
            "text/plain": [
              "<keras.callbacks.History at 0x7fad7db2cfd0>"
            ]
          },
          "metadata": {},
          "execution_count": 5
        }
      ]
    },
    {
      "cell_type": "code",
      "source": [
        "#Show the loss and accuracy.\n",
        "val_loss,val_acc = model.evaluate(x_test,y_test)\n",
        "print(val_loss,val_acc)\n",
        "\n",
        "model.save('epic_num_reader.model.h5')"
      ],
      "metadata": {
        "colab": {
          "base_uri": "https://localhost:8080/"
        },
        "id": "hvPjStoVXZpV",
        "outputId": "d893a35f-2a25-4797-cff0-702106cbf482"
      },
      "execution_count": null,
      "outputs": [
        {
          "output_type": "stream",
          "name": "stdout",
          "text": [
            "313/313 [==============================] - 1s 2ms/step - loss: 0.2415 - accuracy: 0.9751\n",
            "0.241521418094635 0.9750999808311462\n"
          ]
        }
      ]
    },
    {
      "cell_type": "code",
      "source": [
        "new_model = tf.keras.models.load_model('/content/epic_num_reader.model.h5')\n",
        "predictions = new_model.predict([x_test])"
      ],
      "metadata": {
        "id": "bjoPsXTjXcjU"
      },
      "execution_count": null,
      "outputs": []
    },
    {
      "cell_type": "code",
      "source": [
        "print(\"The number is : \",np.argmax(predictions[15])) \n",
        "\n",
        "#Show the image\n",
        "plt.imshow(x_test[15]) \n",
        "plt.show()"
      ],
      "metadata": {
        "colab": {
          "base_uri": "https://localhost:8080/",
          "height": 282
        },
        "id": "-XF4Dy_8XecK",
        "outputId": "b0b2bee9-5992-42bf-d511-bc0678f3e420"
      },
      "execution_count": null,
      "outputs": [
        {
          "output_type": "stream",
          "name": "stdout",
          "text": [
            "The number is :  5\n"
          ]
        },
        {
          "output_type": "display_data",
          "data": {
            "text/plain": [
              "<Figure size 432x288 with 1 Axes>"
            ],
            "image/png": "[encoded data removed]"
          },
          "metadata": {
            "needs_background": "light"
          }
        }
      ]
    },
    {
      "cell_type": "markdown",
      "source": [
        "**Regularization**"
      ],
      "metadata": {
        "id": "WmPyzd8iYru5"
      }
    },
    {
      "cell_type": "code",
      "source": [
        "#Create Neural Network\n",
        "model = tf.keras.models.Sequential()\n",
        "model.add(tf.keras.layers.Flatten())\n",
        "model.add(tf.keras.layers.Dense(128,activation = tf.nn.relu,activity_regularizer=tf.keras.regularizers.L2(0.01)))\n",
        "model.add(tf.keras.layers.Dense(128,activation = tf.nn.relu,activity_regularizer=tf.keras.regularizers.L2(0.01)))\n",
        "model.add(tf.keras.layers.Dense(10,activation = tf.nn.softmax))"
      ],
      "metadata": {
        "id": "pppRenC3YsS3"
      },
      "execution_count": null,
      "outputs": []
    },
    {
      "cell_type": "code",
      "source": [
        "model.compile(optimizer='adam', loss='sparse_categorical_crossentropy',metrics=['accuracy'])"
      ],
      "metadata": {
        "id": "ef3skER7YsS4"
      },
      "execution_count": null,
      "outputs": []
    },
    {
      "cell_type": "code",
      "source": [],
      "metadata": {
        "id": "ZzW9aZuhXN23"
      },
      "execution_count": null,
      "outputs": []
    },
    {
      "cell_type": "code",
      "source": [
        "model.fit(x_train,y_train,epochs=50) "
      ],
      "metadata": {
        "colab": {
          "base_uri": "https://localhost:8080/"
        },
        "outputId": "3ab31140-f32a-4800-be60-42e59b973280",
        "id": "gT3hV_F6YsS5"
      },
      "execution_count": null,
      "outputs": [
        {
          "output_type": "stream",
          "name": "stdout",
          "text": [
            "Epoch 1/50\n",
            "1875/1875 [==============================] - 5s 3ms/step - loss: 0.3781 - accuracy: 0.9352\n",
            "Epoch 2/50\n",
            "1875/1875 [==============================] - 5s 2ms/step - loss: 0.1650 - accuracy: 0.9719\n",
            "Epoch 3/50\n",
            "1875/1875 [==============================] - 5s 2ms/step - loss: 0.1201 - accuracy: 0.9808\n",
            "Epoch 4/50\n",
            "1875/1875 [==============================] - 5s 2ms/step - loss: 0.0985 - accuracy: 0.9845\n",
            "Epoch 5/50\n",
            "1875/1875 [==============================] - 5s 2ms/step - loss: 0.0854 - accuracy: 0.9864\n",
            "Epoch 6/50\n",
            "1875/1875 [==============================] - 5s 2ms/step - loss: 0.0741 - accuracy: 0.9889\n",
            "Epoch 7/50\n",
            "1875/1875 [==============================] - 5s 2ms/step - loss: 0.0678 - accuracy: 0.9898\n",
            "Epoch 8/50\n",
            "1875/1875 [==============================] - 5s 2ms/step - loss: 0.0616 - accuracy: 0.9914\n",
            "Epoch 9/50\n",
            "1875/1875 [==============================] - 5s 2ms/step - loss: 0.0591 - accuracy: 0.9911\n",
            "Epoch 10/50\n",
            "1875/1875 [==============================] - 5s 2ms/step - loss: 0.0550 - accuracy: 0.9927\n",
            "Epoch 11/50\n",
            "1875/1875 [==============================] - 5s 2ms/step - loss: 0.0549 - accuracy: 0.9927\n",
            "Epoch 12/50\n",
            "1875/1875 [==============================] - 5s 2ms/step - loss: 0.0522 - accuracy: 0.9928\n",
            "Epoch 13/50\n",
            "1875/1875 [==============================] - 5s 2ms/step - loss: 0.0486 - accuracy: 0.9938\n",
            "Epoch 14/50\n",
            "1875/1875 [==============================] - 5s 2ms/step - loss: 0.0482 - accuracy: 0.9938\n",
            "Epoch 15/50\n",
            "1875/1875 [==============================] - 5s 2ms/step - loss: 0.0466 - accuracy: 0.9938\n",
            "Epoch 16/50\n",
            "1875/1875 [==============================] - 5s 3ms/step - loss: 0.0453 - accuracy: 0.9942\n",
            "Epoch 17/50\n",
            "1875/1875 [==============================] - 5s 2ms/step - loss: 0.0450 - accuracy: 0.9942\n",
            "Epoch 18/50\n",
            "1875/1875 [==============================] - 5s 2ms/step - loss: 0.0441 - accuracy: 0.9949\n",
            "Epoch 19/50\n",
            "1875/1875 [==============================] - 5s 2ms/step - loss: 0.0464 - accuracy: 0.9937\n",
            "Epoch 20/50\n",
            "1875/1875 [==============================] - 5s 2ms/step - loss: 0.0398 - accuracy: 0.9958\n",
            "Epoch 21/50\n",
            "1875/1875 [==============================] - 5s 2ms/step - loss: 0.0446 - accuracy: 0.9943\n",
            "Epoch 22/50\n",
            "1875/1875 [==============================] - 6s 3ms/step - loss: 0.0419 - accuracy: 0.9947\n",
            "Epoch 23/50\n",
            "1875/1875 [==============================] - 5s 2ms/step - loss: 0.0445 - accuracy: 0.9940\n",
            "Epoch 24/50\n",
            "1875/1875 [==============================] - 5s 3ms/step - loss: 0.0415 - accuracy: 0.9948\n",
            "Epoch 25/50\n",
            "1875/1875 [==============================] - 5s 2ms/step - loss: 0.0442 - accuracy: 0.9945\n",
            "Epoch 26/50\n",
            "1875/1875 [==============================] - 5s 2ms/step - loss: 0.0417 - accuracy: 0.9950\n",
            "Epoch 27/50\n",
            "1875/1875 [==============================] - 5s 2ms/step - loss: 0.0405 - accuracy: 0.9955\n",
            "Epoch 28/50\n",
            "1875/1875 [==============================] - 5s 2ms/step - loss: 0.0407 - accuracy: 0.9953\n",
            "Epoch 29/50\n",
            "1875/1875 [==============================] - 5s 2ms/step - loss: 0.0398 - accuracy: 0.9956\n",
            "Epoch 30/50\n",
            "1875/1875 [==============================] - 5s 2ms/step - loss: 0.0411 - accuracy: 0.9953\n",
            "Epoch 31/50\n",
            "1875/1875 [==============================] - 5s 3ms/step - loss: 0.0403 - accuracy: 0.9954\n",
            "Epoch 32/50\n",
            "1875/1875 [==============================] - 5s 3ms/step - loss: 0.0388 - accuracy: 0.9957\n",
            "Epoch 33/50\n",
            "1875/1875 [==============================] - 5s 2ms/step - loss: 0.0436 - accuracy: 0.9947\n",
            "Epoch 34/50\n",
            "1875/1875 [==============================] - 5s 2ms/step - loss: 0.0403 - accuracy: 0.9953\n",
            "Epoch 35/50\n",
            "1875/1875 [==============================] - 5s 2ms/step - loss: 0.0410 - accuracy: 0.9954\n",
            "Epoch 36/50\n",
            "1875/1875 [==============================] - 5s 2ms/step - loss: 0.0411 - accuracy: 0.9954\n",
            "Epoch 37/50\n",
            "1875/1875 [==============================] - 5s 2ms/step - loss: 0.0414 - accuracy: 0.9954\n",
            "Epoch 38/50\n",
            "1875/1875 [==============================] - 5s 2ms/step - loss: 0.0390 - accuracy: 0.9960\n",
            "Epoch 39/50\n",
            "1875/1875 [==============================] - 5s 2ms/step - loss: 0.0400 - accuracy: 0.9955\n",
            "Epoch 40/50\n",
            "1875/1875 [==============================] - 5s 2ms/step - loss: 0.0396 - accuracy: 0.9955\n",
            "Epoch 41/50\n",
            "1875/1875 [==============================] - 5s 2ms/step - loss: 0.0441 - accuracy: 0.9947\n",
            "Epoch 42/50\n",
            "1875/1875 [==============================] - 5s 2ms/step - loss: 0.0411 - accuracy: 0.9954\n",
            "Epoch 43/50\n",
            "1875/1875 [==============================] - 5s 3ms/step - loss: 0.0421 - accuracy: 0.9952\n",
            "Epoch 44/50\n",
            "1875/1875 [==============================] - 5s 3ms/step - loss: 0.0438 - accuracy: 0.9945\n",
            "Epoch 45/50\n",
            "1875/1875 [==============================] - 5s 3ms/step - loss: 0.0409 - accuracy: 0.9955\n",
            "Epoch 46/50\n",
            "1875/1875 [==============================] - 5s 3ms/step - loss: 0.0421 - accuracy: 0.9953\n",
            "Epoch 47/50\n",
            "1875/1875 [==============================] - 5s 3ms/step - loss: 0.0414 - accuracy: 0.9953\n",
            "Epoch 48/50\n",
            "1875/1875 [==============================] - 5s 3ms/step - loss: 0.0431 - accuracy: 0.9950\n",
            "Epoch 49/50\n",
            "1875/1875 [==============================] - 5s 3ms/step - loss: 0.0445 - accuracy: 0.9950\n",
            "Epoch 50/50\n",
            "1875/1875 [==============================] - 5s 3ms/step - loss: 0.0428 - accuracy: 0.9952\n"
          ]
        },
        {
          "output_type": "execute_result",
          "data": {
            "text/plain": [
              "<keras.callbacks.History at 0x7fad7580b2d0>"
            ]
          },
          "metadata": {},
          "execution_count": 12
        }
      ]
    },
    {
      "cell_type": "code",
      "source": [
        "#Show the loss and accuracy.\n",
        "val_loss,val_acc = model.evaluate(x_test,y_test)\n",
        "print(val_loss,val_acc)\n",
        "\n",
        "model.save('epic_num_reader_regularizer.model.h5')"
      ],
      "metadata": {
        "colab": {
          "base_uri": "https://localhost:8080/"
        },
        "outputId": "2eed09c3-bd9e-480c-9483-f12e8a49d90e",
        "id": "GFS31UuZYsS6"
      },
      "execution_count": null,
      "outputs": [
        {
          "output_type": "stream",
          "name": "stdout",
          "text": [
            "313/313 [==============================] - 1s 2ms/step - loss: 0.2322 - accuracy: 0.9555\n",
            "0.23222233355045319 0.9555000066757202\n"
          ]
        }
      ]
    },
    {
      "cell_type": "code",
      "source": [
        "new_model = tf.keras.models.load_model('/content/epic_num_reader_regularizer.model.h5')\n",
        "predictions = new_model.predict([x_test])"
      ],
      "metadata": {
        "id": "zeeWtbzAYsS7"
      },
      "execution_count": null,
      "outputs": []
    },
    {
      "cell_type": "code",
      "source": [
        "print(\"The number is : \",np.argmax(predictions[28])) \n",
        "\n",
        "#Show the image\n",
        "plt.imshow(x_test[28]) \n",
        "plt.show()"
      ],
      "metadata": {
        "colab": {
          "base_uri": "https://localhost:8080/",
          "height": 282
        },
        "outputId": "95437a3b-5d74-4fc4-c4c3-6992c922404a",
        "id": "893XyjT4YsS8"
      },
      "execution_count": null,
      "outputs": [
        {
          "output_type": "stream",
          "name": "stdout",
          "text": [
            "The number is :  0\n"
          ]
        },
        {
          "output_type": "display_data",
          "data": {
            "text/plain": [
              "<Figure size 432x288 with 1 Axes>"
            ],
            "image/png": "[encoded data removed]"
          },
          "metadata": {
            "needs_background": "light"
          }
        }
      ]
    },
    {
      "cell_type": "markdown",
      "source": [
        "**Dropout**"
      ],
      "metadata": {
        "id": "PJXunpN_Z7et"
      }
    },
    {
      "cell_type": "code",
      "source": [
        "#Create Neural Network\n",
        "model = tf.keras.models.Sequential()\n",
        "model.add(tf.keras.layers.Flatten())\n",
        "model.add(tf.keras.layers.Dense(128,activation = tf.nn.relu))\n",
        "model.add(tf.keras.layers.Dropout(0.5))\n",
        "model.add(tf.keras.layers.Dense(128,activation = tf.nn.relu))\n",
        "model.add(tf.keras.layers.Dropout(0.5))\n",
        "model.add(tf.keras.layers.Dense(10,activation = tf.nn.softmax))"
      ],
      "metadata": {
        "id": "WUbhrNC7aBbp"
      },
      "execution_count": null,
      "outputs": []
    },
    {
      "cell_type": "code",
      "source": [
        "model.compile(optimizer='adam', loss='sparse_categorical_crossentropy',metrics=['accuracy'])"
      ],
      "metadata": {
        "id": "rOTUyAE_aBbq"
      },
      "execution_count": null,
      "outputs": []
    },
    {
      "cell_type": "code",
      "source": [
        "model.fit(x_train,y_train,epochs=50) "
      ],
      "metadata": {
        "colab": {
          "base_uri": "https://localhost:8080/"
        },
        "outputId": "4d6615eb-f22f-4eb7-c093-58704b96e46d",
        "id": "BW_zuJZraBbr"
      },
      "execution_count": null,
      "outputs": [
        {
          "output_type": "stream",
          "name": "stdout",
          "text": [
            "Epoch 1/50\n",
            "1875/1875 [==============================] - 6s 3ms/step - loss: 0.5124 - accuracy: 0.8454\n",
            "Epoch 2/50\n",
            "1875/1875 [==============================] - 5s 3ms/step - loss: 0.2776 - accuracy: 0.9202\n",
            "Epoch 3/50\n",
            "1875/1875 [==============================] - 5s 3ms/step - loss: 0.2322 - accuracy: 0.9331\n",
            "Epoch 4/50\n",
            "1875/1875 [==============================] - 5s 3ms/step - loss: 0.2036 - accuracy: 0.9412\n",
            "Epoch 5/50\n",
            "1875/1875 [==============================] - 5s 3ms/step - loss: 0.1868 - accuracy: 0.9458\n",
            "Epoch 6/50\n",
            "1875/1875 [==============================] - 5s 3ms/step - loss: 0.1706 - accuracy: 0.9499\n",
            "Epoch 7/50\n",
            "1875/1875 [==============================] - 5s 3ms/step - loss: 0.1652 - accuracy: 0.9508\n",
            "Epoch 8/50\n",
            "1875/1875 [==============================] - 5s 3ms/step - loss: 0.1582 - accuracy: 0.9531\n",
            "Epoch 9/50\n",
            "1875/1875 [==============================] - 5s 3ms/step - loss: 0.1505 - accuracy: 0.9558\n",
            "Epoch 10/50\n",
            "1875/1875 [==============================] - 5s 3ms/step - loss: 0.1449 - accuracy: 0.9572\n",
            "Epoch 11/50\n",
            "1875/1875 [==============================] - 5s 3ms/step - loss: 0.1417 - accuracy: 0.9580\n",
            "Epoch 12/50\n",
            "1875/1875 [==============================] - 5s 3ms/step - loss: 0.1373 - accuracy: 0.9587\n",
            "Epoch 13/50\n",
            "1875/1875 [==============================] - 5s 3ms/step - loss: 0.1358 - accuracy: 0.9594\n",
            "Epoch 14/50\n",
            "1875/1875 [==============================] - 5s 3ms/step - loss: 0.1310 - accuracy: 0.9611\n",
            "Epoch 15/50\n",
            "1875/1875 [==============================] - 5s 3ms/step - loss: 0.1262 - accuracy: 0.9625\n",
            "Epoch 16/50\n",
            "1875/1875 [==============================] - 5s 3ms/step - loss: 0.1279 - accuracy: 0.9615\n",
            "Epoch 17/50\n",
            "1875/1875 [==============================] - 5s 3ms/step - loss: 0.1226 - accuracy: 0.9639\n",
            "Epoch 18/50\n",
            "1875/1875 [==============================] - 5s 3ms/step - loss: 0.1219 - accuracy: 0.9631\n",
            "Epoch 19/50\n",
            "1875/1875 [==============================] - 5s 3ms/step - loss: 0.1181 - accuracy: 0.9647\n",
            "Epoch 20/50\n",
            "1875/1875 [==============================] - 5s 3ms/step - loss: 0.1175 - accuracy: 0.9646\n",
            "Epoch 21/50\n",
            "1875/1875 [==============================] - 5s 3ms/step - loss: 0.1146 - accuracy: 0.9651\n",
            "Epoch 22/50\n",
            "1875/1875 [==============================] - 5s 3ms/step - loss: 0.1167 - accuracy: 0.9654\n",
            "Epoch 23/50\n",
            "1875/1875 [==============================] - 5s 3ms/step - loss: 0.1149 - accuracy: 0.9657\n",
            "Epoch 24/50\n",
            "1875/1875 [==============================] - 5s 3ms/step - loss: 0.1089 - accuracy: 0.9663\n",
            "Epoch 25/50\n",
            "1875/1875 [==============================] - 5s 3ms/step - loss: 0.1104 - accuracy: 0.9664\n",
            "Epoch 26/50\n",
            "1875/1875 [==============================] - 5s 3ms/step - loss: 0.1111 - accuracy: 0.9677\n",
            "Epoch 27/50\n",
            "1875/1875 [==============================] - 5s 3ms/step - loss: 0.1091 - accuracy: 0.9671\n",
            "Epoch 28/50\n",
            "1875/1875 [==============================] - 5s 3ms/step - loss: 0.1061 - accuracy: 0.9679\n",
            "Epoch 29/50\n",
            "1875/1875 [==============================] - 5s 3ms/step - loss: 0.1057 - accuracy: 0.9688\n",
            "Epoch 30/50\n",
            "1875/1875 [==============================] - 5s 3ms/step - loss: 0.1025 - accuracy: 0.9694\n",
            "Epoch 31/50\n",
            "1875/1875 [==============================] - 5s 3ms/step - loss: 0.1033 - accuracy: 0.9692\n",
            "Epoch 32/50\n",
            "1875/1875 [==============================] - 5s 3ms/step - loss: 0.1035 - accuracy: 0.9686\n",
            "Epoch 33/50\n",
            "1875/1875 [==============================] - 5s 3ms/step - loss: 0.0996 - accuracy: 0.9697\n",
            "Epoch 34/50\n",
            "1875/1875 [==============================] - 5s 3ms/step - loss: 0.1019 - accuracy: 0.9693\n",
            "Epoch 35/50\n",
            "1875/1875 [==============================] - 5s 3ms/step - loss: 0.0973 - accuracy: 0.9706\n",
            "Epoch 36/50\n",
            "1875/1875 [==============================] - 5s 3ms/step - loss: 0.0958 - accuracy: 0.9714\n",
            "Epoch 37/50\n",
            "1875/1875 [==============================] - 5s 3ms/step - loss: 0.0967 - accuracy: 0.9707\n",
            "Epoch 38/50\n",
            "1875/1875 [==============================] - 5s 3ms/step - loss: 0.0955 - accuracy: 0.9708\n",
            "Epoch 39/50\n",
            "1875/1875 [==============================] - 5s 3ms/step - loss: 0.0978 - accuracy: 0.9707\n",
            "Epoch 40/50\n",
            "1875/1875 [==============================] - 5s 3ms/step - loss: 0.0981 - accuracy: 0.9714\n",
            "Epoch 41/50\n",
            "1875/1875 [==============================] - 5s 3ms/step - loss: 0.0977 - accuracy: 0.9711\n",
            "Epoch 42/50\n",
            "1875/1875 [==============================] - 5s 3ms/step - loss: 0.0940 - accuracy: 0.9719\n",
            "Epoch 43/50\n",
            "1875/1875 [==============================] - 5s 3ms/step - loss: 0.0939 - accuracy: 0.9722\n",
            "Epoch 44/50\n",
            "1875/1875 [==============================] - 5s 3ms/step - loss: 0.0931 - accuracy: 0.9717\n",
            "Epoch 45/50\n",
            "1875/1875 [==============================] - 5s 3ms/step - loss: 0.0916 - accuracy: 0.9726\n",
            "Epoch 46/50\n",
            "1875/1875 [==============================] - 5s 3ms/step - loss: 0.0942 - accuracy: 0.9713\n",
            "Epoch 47/50\n",
            "1875/1875 [==============================] - 5s 3ms/step - loss: 0.0897 - accuracy: 0.9724\n",
            "Epoch 48/50\n",
            "1875/1875 [==============================] - 5s 3ms/step - loss: 0.0905 - accuracy: 0.9731\n",
            "Epoch 49/50\n",
            "1875/1875 [==============================] - 5s 3ms/step - loss: 0.0946 - accuracy: 0.9713\n",
            "Epoch 50/50\n",
            "1875/1875 [==============================] - 5s 3ms/step - loss: 0.0922 - accuracy: 0.9717\n"
          ]
        },
        {
          "output_type": "execute_result",
          "data": {
            "text/plain": [
              "<keras.callbacks.History at 0x7fad70ce75d0>"
            ]
          },
          "metadata": {},
          "execution_count": 19
        }
      ]
    },
    {
      "cell_type": "code",
      "source": [
        "#Show the loss and accuracy.\n",
        "val_loss,val_acc = model.evaluate(x_test,y_test)\n",
        "print(val_loss,val_acc)\n",
        "\n",
        "model.save('epic_num_reader_dropout.model.h5')"
      ],
      "metadata": {
        "colab": {
          "base_uri": "https://localhost:8080/"
        },
        "outputId": "022bdb07-6cd9-413f-9976-6d13f62ac28b",
        "id": "mrblzB3CaBbr"
      },
      "execution_count": null,
      "outputs": [
        {
          "output_type": "stream",
          "name": "stdout",
          "text": [
            "313/313 [==============================] - 1s 2ms/step - loss: 0.1109 - accuracy: 0.9757\n",
            "0.11086548119783401 0.9757000207901001\n"
          ]
        }
      ]
    },
    {
      "cell_type": "code",
      "source": [
        "new_model = tf.keras.models.load_model('/content/epic_num_reader_dropout.model.h5')\n",
        "predictions = new_model.predict([x_test])"
      ],
      "metadata": {
        "id": "ya5VW29CaBbs"
      },
      "execution_count": null,
      "outputs": []
    },
    {
      "cell_type": "code",
      "source": [
        "print(\"The number is : \",np.argmax(predictions[5])) \n",
        "\n",
        "#Show the image\n",
        "plt.imshow(x_test[5]) \n",
        "plt.show()"
      ],
      "metadata": {
        "colab": {
          "base_uri": "https://localhost:8080/",
          "height": 282
        },
        "outputId": "ea33b54d-36b2-48d0-b2a6-6f3a5b2bf757",
        "id": "iHpfa-ruaBbt"
      },
      "execution_count": null,
      "outputs": [
        {
          "output_type": "stream",
          "name": "stdout",
          "text": [
            "The number is :  1\n"
          ]
        },
        {
          "output_type": "display_data",
          "data": {
            "text/plain": [
              "<Figure size 432x288 with 1 Axes>"
            ],
            "image/png": "[encoded data removed]"
          },
          "metadata": {
            "needs_background": "light"
          }
        }
      ]
    },
    {
      "cell_type": "markdown",
      "source": [
        "**Early Stopping**"
      ],
      "metadata": {
        "id": "B8u7RTU2b-wa"
      }
    },
    {
      "cell_type": "code",
      "source": [
        "#Create Neural Network\n",
        "model = tf.keras.models.Sequential()\n",
        "model.add(tf.keras.layers.Flatten())\n",
        "model.add(tf.keras.layers.Dense(128,activation = tf.nn.relu))\n",
        "model.add(tf.keras.layers.Dense(128,activation = tf.nn.relu))\n",
        "model.add(tf.keras.layers.Dense(10,activation = tf.nn.softmax))"
      ],
      "metadata": {
        "id": "WX4xcWi-cDxZ"
      },
      "execution_count": null,
      "outputs": []
    },
    {
      "cell_type": "code",
      "source": [
        "model.compile(optimizer='adam', loss='sparse_categorical_crossentropy',metrics=['accuracy'])"
      ],
      "metadata": {
        "id": "8vSgevuOcDxa"
      },
      "execution_count": null,
      "outputs": []
    },
    {
      "cell_type": "code",
      "source": [
        "callback = tf.keras.callbacks.EarlyStopping(monitor='loss', patience=2)"
      ],
      "metadata": {
        "id": "01lJs-kKcpES"
      },
      "execution_count": null,
      "outputs": []
    },
    {
      "cell_type": "code",
      "source": [
        "model.fit(x_train,y_train,epochs=50,callbacks=[callback]) "
      ],
      "metadata": {
        "colab": {
          "base_uri": "https://localhost:8080/"
        },
        "outputId": "68c465fc-3ee6-4b25-cc0d-4495d30df7f3",
        "id": "ESky-CLEcDxb"
      },
      "execution_count": null,
      "outputs": [
        {
          "output_type": "stream",
          "name": "stdout",
          "text": [
            "Epoch 1/50\n",
            "1875/1875 [==============================] - 3s 2ms/step - loss: 0.2638 - accuracy: 0.9222\n",
            "Epoch 2/50\n",
            "1875/1875 [==============================] - 3s 2ms/step - loss: 0.1077 - accuracy: 0.9668\n",
            "Epoch 3/50\n",
            "1875/1875 [==============================] - 3s 2ms/step - loss: 0.0734 - accuracy: 0.9769\n",
            "Epoch 4/50\n",
            "1875/1875 [==============================] - 3s 2ms/step - loss: 0.0532 - accuracy: 0.9826\n",
            "Epoch 5/50\n",
            "1875/1875 [==============================] - 3s 2ms/step - loss: 0.0428 - accuracy: 0.9862\n",
            "Epoch 6/50\n",
            "1875/1875 [==============================] - 3s 2ms/step - loss: 0.0320 - accuracy: 0.9894\n",
            "Epoch 7/50\n",
            "1875/1875 [==============================] - 3s 2ms/step - loss: 0.0265 - accuracy: 0.9908\n",
            "Epoch 8/50\n",
            "1875/1875 [==============================] - 3s 2ms/step - loss: 0.0207 - accuracy: 0.9930\n",
            "Epoch 9/50\n",
            "1875/1875 [==============================] - 3s 2ms/step - loss: 0.0180 - accuracy: 0.9939\n",
            "Epoch 10/50\n",
            "1875/1875 [==============================] - 3s 2ms/step - loss: 0.0165 - accuracy: 0.9944\n",
            "Epoch 11/50\n",
            "1875/1875 [==============================] - 3s 2ms/step - loss: 0.0137 - accuracy: 0.9955\n",
            "Epoch 12/50\n",
            "1875/1875 [==============================] - 3s 2ms/step - loss: 0.0130 - accuracy: 0.9955\n",
            "Epoch 13/50\n",
            "1875/1875 [==============================] - 3s 2ms/step - loss: 0.0107 - accuracy: 0.9963\n",
            "Epoch 14/50\n",
            "1875/1875 [==============================] - 3s 2ms/step - loss: 0.0115 - accuracy: 0.9960\n",
            "Epoch 15/50\n",
            "1875/1875 [==============================] - 3s 2ms/step - loss: 0.0086 - accuracy: 0.9971\n",
            "Epoch 16/50\n",
            "1875/1875 [==============================] - 3s 2ms/step - loss: 0.0098 - accuracy: 0.9965\n",
            "Epoch 17/50\n",
            "1875/1875 [==============================] - 3s 2ms/step - loss: 0.0089 - accuracy: 0.9968\n"
          ]
        },
        {
          "output_type": "execute_result",
          "data": {
            "text/plain": [
              "<keras.callbacks.History at 0x7fdb02af3350>"
            ]
          },
          "metadata": {},
          "execution_count": 31
        }
      ]
    },
    {
      "cell_type": "code",
      "source": [
        "#Show the loss and accuracy.\n",
        "val_loss,val_acc = model.evaluate(x_test,y_test)\n",
        "print(val_loss,val_acc)\n",
        "\n",
        "model.save('epic_num_reader_early_stopping.model.h5')"
      ],
      "metadata": {
        "colab": {
          "base_uri": "https://localhost:8080/"
        },
        "outputId": "a6210cc3-7059-4dd5-c0d9-0a5510bd5ead",
        "id": "1CLbCd9kcDxb"
      },
      "execution_count": null,
      "outputs": [
        {
          "output_type": "stream",
          "name": "stdout",
          "text": [
            "313/313 [==============================] - 0s 1ms/step - loss: 0.1393 - accuracy: 0.9764\n",
            "0.13925504684448242 0.9764000177383423\n"
          ]
        }
      ]
    },
    {
      "cell_type": "code",
      "source": [
        "new_model = tf.keras.models.load_model('/content/epic_num_reader_early_stopping.model.h5')\n",
        "predictions = new_model.predict([x_test])"
      ],
      "metadata": {
        "id": "u0daja9scDxc"
      },
      "execution_count": null,
      "outputs": []
    },
    {
      "cell_type": "code",
      "source": [
        "print(\"The number is : \",np.argmax(predictions[11])) \n",
        "\n",
        "#Show the image\n",
        "plt.imshow(x_test[11]) \n",
        "plt.show()"
      ],
      "metadata": {
        "colab": {
          "base_uri": "https://localhost:8080/",
          "height": 282
        },
        "outputId": "b50c1a91-a132-4ece-9886-4181e7324a96",
        "id": "Z0VkRuANcDxd"
      },
      "execution_count": null,
      "outputs": [
        {
          "output_type": "stream",
          "name": "stdout",
          "text": [
            "The number is :  6\n"
          ]
        },
        {
          "output_type": "display_data",
          "data": {
            "text/plain": [
              "<Figure size 432x288 with 1 Axes>"
            ],
            "image/png": "[encoded data removed]"
          },
          "metadata": {
            "needs_background": "light"
          }
        }
      ]
    },
    {
      "cell_type": "markdown",
      "source": [
        "**Using Augmentation techniques**"
      ],
      "metadata": {
        "id": "Qbk-tJbZp8qo"
      }
    },
    {
      "cell_type": "code",
      "execution_count": null,
      "metadata": {
        "id": "p0oGOpu1jrPR"
      },
      "outputs": [],
      "source": [
        "mnist = tf.keras.datasets.mnist #Get the data\n",
        "\n",
        "(x_train, y_train),(x_test, y_test) = mnist.load_data()\n",
        "\n",
        "x_train = tf.keras.utils.normalize(x_train,axis=1)\n",
        "x_test = tf.keras.utils.normalize(x_test,axis=1)"
      ]
    },
    {
      "cell_type": "code",
      "source": [
        "image_size = x_train.shape[1]\n",
        "input_size = image_size * image_size\n",
        "batch_size = 128\n",
        "hidden_units = 256\n",
        "epochs = 20\n",
        "max_batches = len(x_train) / batch_size"
      ],
      "metadata": {
        "id": "CojfEjlxntlB"
      },
      "execution_count": null,
      "outputs": []
    },
    {
      "cell_type": "code",
      "source": [
        "from keras.preprocessing.image import ImageDataGenerator"
      ],
      "metadata": {
        "id": "zQnLdbUCnmq8"
      },
      "execution_count": null,
      "outputs": []
    },
    {
      "cell_type": "code",
      "source": [
        "rotation_range_val = 30\n",
        "datagen = ImageDataGenerator(rotation_range=rotation_range_val)\n",
        "# fit the generator\n",
        "datagen.fit(x_train.reshape(x_train.shape[0], 28, 28, 1))\n",
        "# define number of rows & columns\n",
        "num_row = 2\n",
        "num_col = 8\n",
        "num= num_row*num_col\n",
        "# plot before\n",
        "print('BEFORE:\\n')\n",
        "# plot images\n",
        "fig1, axes1 = plt.subplots(num_row, num_col, figsize=(1.5*num_col,2*num_row))\n",
        "for i in range(num):\n",
        "     ax = axes1[i//num_col, i%num_col]\n",
        "     ax.imshow(x_train[i], cmap='gray_r')\n",
        "     ax.set_title('Label: {}'.format(y_train[i]))\n",
        "plt.tight_layout()\n",
        "plt.show()\n",
        "# plot after\n",
        "print('AFTER:\\n')\n",
        "fig2, axes2 = plt.subplots(num_row, num_col, figsize=(1.5*num_col,2*num_row))\n",
        "for X, Y in datagen.flow(x_train.reshape(x_train.shape[0], 28, 28, 1),y_train.reshape(y_train.shape[0], 1),batch_size=num,shuffle=False):\n",
        "     for i in range(0, num):\n",
        "          ax = axes2[i//num_col, i%num_col]\n",
        "          ax.imshow(X[i].reshape(28,28), cmap='gray_r')\n",
        "          ax.set_title('Label: {}'.format(int(Y[i])))\n",
        "     break\n",
        "plt.tight_layout()\n",
        "plt.show()"
      ],
      "metadata": {
        "colab": {
          "base_uri": "https://localhost:8080/",
          "height": 610
        },
        "id": "JVENK_STjTKU",
        "outputId": "03c13a2a-cfe3-44f2-9beb-6e7c8d2012b3"
      },
      "execution_count": null,
      "outputs": [
        {
          "output_type": "stream",
          "name": "stdout",
          "text": [
            "BEFORE:\n",
            "\n"
          ]
        },
        {
          "output_type": "display_data",
          "data": {
            "text/plain": [
              "<Figure size 864x288 with 16 Axes>"
            ],
            "image/png": "[encoded data removed]"
          },
          "metadata": {
            "needs_background": "light"
          }
        },
        {
          "output_type": "stream",
          "name": "stdout",
          "text": [
            "AFTER:\n",
            "\n"
          ]
        },
        {
          "output_type": "display_data",
          "data": {
            "text/plain": [
              "<Figure size 864x288 with 16 Axes>"
            ],
            "image/png": "[encoded data removed]"
          },
          "metadata": {
            "needs_background": "light"
          }
        }
      ]
    },
    {
      "cell_type": "code",
      "source": [
        "#Create Neural Network\n",
        "model = tf.keras.models.Sequential()\n",
        "model.add(tf.keras.layers.Flatten())\n",
        "model.add(tf.keras.layers.Dense(128,activation = tf.nn.relu))\n",
        "model.add(tf.keras.layers.Dense(128,activation = tf.nn.relu))\n",
        "model.add(tf.keras.layers.Dense(10,activation = tf.nn.softmax))"
      ],
      "metadata": {
        "id": "5Ka6GXD6jrPS"
      },
      "execution_count": null,
      "outputs": []
    },
    {
      "cell_type": "code",
      "source": [
        "model.compile(optimizer='adam', loss='sparse_categorical_crossentropy',metrics=['accuracy'])"
      ],
      "metadata": {
        "id": "fbTvEQ0tjrPT"
      },
      "execution_count": null,
      "outputs": []
    },
    {
      "cell_type": "code",
      "source": [
        "model.fit(X,Y,epochs=500) "
      ],
      "metadata": {
        "colab": {
          "base_uri": "https://localhost:8080/"
        },
        "outputId": "ef999e8c-cbe8-4538-bf14-78344cae5f5c",
        "id": "bQ_l8TnyjrPW"
      },
      "execution_count": null,
      "outputs": [
        {
          "output_type": "stream",
          "name": "stdout",
          "text": [
            "Epoch 1/500\n",
            "1/1 [==============================] - 0s 293ms/step - loss: 2.2913 - accuracy: 0.1875\n",
            "Epoch 2/500\n",
            "1/1 [==============================] - 0s 9ms/step - loss: 2.1700 - accuracy: 0.5625\n",
            "Epoch 3/500\n",
            "1/1 [==============================] - 0s 9ms/step - loss: 2.0623 - accuracy: 0.7500\n",
            "Epoch 4/500\n",
            "1/1 [==============================] - 0s 8ms/step - loss: 1.9620 - accuracy: 0.8750\n",
            "Epoch 5/500\n",
            "1/1 [==============================] - 0s 8ms/step - loss: 1.8643 - accuracy: 1.0000\n",
            "Epoch 6/500\n",
            "1/1 [==============================] - 0s 6ms/step - loss: 1.7678 - accuracy: 1.0000\n",
            "Epoch 7/500\n",
            "1/1 [==============================] - 0s 5ms/step - loss: 1.6694 - accuracy: 1.0000\n",
            "Epoch 8/500\n",
            "1/1 [==============================] - 0s 5ms/step - loss: 1.5686 - accuracy: 1.0000\n",
            "Epoch 9/500\n",
            "1/1 [==============================] - 0s 6ms/step - loss: 1.4633 - accuracy: 1.0000\n",
            "Epoch 10/500\n",
            "1/1 [==============================] - 0s 5ms/step - loss: 1.3554 - accuracy: 1.0000\n",
            "Epoch 11/500\n",
            "1/1 [==============================] - 0s 5ms/step - loss: 1.2476 - accuracy: 1.0000\n",
            "Epoch 12/500\n",
            "1/1 [==============================] - 0s 5ms/step - loss: 1.1390 - accuracy: 1.0000\n",
            "Epoch 13/500\n",
            "1/1 [==============================] - 0s 5ms/step - loss: 1.0318 - accuracy: 1.0000\n",
            "Epoch 14/500\n",
            "1/1 [==============================] - 0s 5ms/step - loss: 0.9273 - accuracy: 1.0000\n",
            "Epoch 15/500\n",
            "1/1 [==============================] - 0s 5ms/step - loss: 0.8266 - accuracy: 1.0000\n",
            "Epoch 16/500\n",
            "1/1 [==============================] - 0s 5ms/step - loss: 0.7313 - accuracy: 1.0000\n",
            "Epoch 17/500\n",
            "1/1 [==============================] - 0s 5ms/step - loss: 0.6417 - accuracy: 1.0000\n",
            "Epoch 18/500\n",
            "1/1 [==============================] - 0s 5ms/step - loss: 0.5587 - accuracy: 1.0000\n",
            "Epoch 19/500\n",
            "1/1 [==============================] - 0s 5ms/step - loss: 0.4824 - accuracy: 1.0000\n",
            "Epoch 20/500\n",
            "1/1 [==============================] - 0s 5ms/step - loss: 0.4128 - accuracy: 1.0000\n",
            "Epoch 21/500\n",
            "1/1 [==============================] - 0s 5ms/step - loss: 0.3503 - accuracy: 1.0000\n",
            "Epoch 22/500\n",
            "1/1 [==============================] - 0s 5ms/step - loss: 0.2958 - accuracy: 1.0000\n",
            "Epoch 23/500\n",
            "1/1 [==============================] - 0s 6ms/step - loss: 0.2480 - accuracy: 1.0000\n",
            "Epoch 24/500\n",
            "1/1 [==============================] - 0s 5ms/step - loss: 0.2064 - accuracy: 1.0000\n",
            "Epoch 25/500\n",
            "1/1 [==============================] - 0s 5ms/step - loss: 0.1710 - accuracy: 1.0000\n",
            "Epoch 26/500\n",
            "1/1 [==============================] - 0s 6ms/step - loss: 0.1412 - accuracy: 1.0000\n",
            "Epoch 27/500\n",
            "1/1 [==============================] - 0s 5ms/step - loss: 0.1164 - accuracy: 1.0000\n",
            "Epoch 28/500\n",
            "1/1 [==============================] - 0s 5ms/step - loss: 0.0961 - accuracy: 1.0000\n",
            "Epoch 29/500\n",
            "1/1 [==============================] - 0s 5ms/step - loss: 0.0796 - accuracy: 1.0000\n",
            "Epoch 30/500\n",
            "1/1 [==============================] - 0s 5ms/step - loss: 0.0662 - accuracy: 1.0000\n",
            "Epoch 31/500\n",
            "1/1 [==============================] - 0s 5ms/step - loss: 0.0554 - accuracy: 1.0000\n",
            "Epoch 32/500\n",
            "1/1 [==============================] - 0s 5ms/step - loss: 0.0466 - accuracy: 1.0000\n",
            "Epoch 33/500\n",
            "1/1 [==============================] - 0s 6ms/step - loss: 0.0394 - accuracy: 1.0000\n",
            "Epoch 34/500\n",
            "1/1 [==============================] - 0s 5ms/step - loss: 0.0335 - accuracy: 1.0000\n",
            "Epoch 35/500\n",
            "1/1 [==============================] - 0s 5ms/step - loss: 0.0286 - accuracy: 1.0000\n",
            "Epoch 36/500\n",
            "1/1 [==============================] - 0s 8ms/step - loss: 0.0246 - accuracy: 1.0000\n",
            "Epoch 37/500\n",
            "1/1 [==============================] - 0s 5ms/step - loss: 0.0212 - accuracy: 1.0000\n",
            "Epoch 38/500\n",
            "1/1 [==============================] - 0s 5ms/step - loss: 0.0185 - accuracy: 1.0000\n",
            "Epoch 39/500\n",
            "1/1 [==============================] - 0s 6ms/step - loss: 0.0161 - accuracy: 1.0000\n",
            "Epoch 40/500\n",
            "1/1 [==============================] - 0s 5ms/step - loss: 0.0142 - accuracy: 1.0000\n",
            "Epoch 41/500\n",
            "1/1 [==============================] - 0s 5ms/step - loss: 0.0126 - accuracy: 1.0000\n",
            "Epoch 42/500\n",
            "1/1 [==============================] - 0s 6ms/step - loss: 0.0112 - accuracy: 1.0000\n",
            "Epoch 43/500\n",
            "1/1 [==============================] - 0s 6ms/step - loss: 0.0101 - accuracy: 1.0000\n",
            "Epoch 44/500\n",
            "1/1 [==============================] - 0s 6ms/step - loss: 0.0091 - accuracy: 1.0000\n",
            "Epoch 45/500\n",
            "1/1 [==============================] - 0s 6ms/step - loss: 0.0083 - accuracy: 1.0000\n",
            "Epoch 46/500\n",
            "1/1 [==============================] - 0s 6ms/step - loss: 0.0076 - accuracy: 1.0000\n",
            "Epoch 47/500\n",
            "1/1 [==============================] - 0s 6ms/step - loss: 0.0070 - accuracy: 1.0000\n",
            "Epoch 48/500\n",
            "1/1 [==============================] - 0s 5ms/step - loss: 0.0065 - accuracy: 1.0000\n",
            "Epoch 49/500\n",
            "1/1 [==============================] - 0s 6ms/step - loss: 0.0060 - accuracy: 1.0000\n",
            "Epoch 50/500\n",
            "1/1 [==============================] - 0s 6ms/step - loss: 0.0056 - accuracy: 1.0000\n",
            "Epoch 51/500\n",
            "1/1 [==============================] - 0s 6ms/step - loss: 0.0052 - accuracy: 1.0000\n",
            "Epoch 52/500\n",
            "1/1 [==============================] - 0s 6ms/step - loss: 0.0049 - accuracy: 1.0000\n",
            "Epoch 53/500\n",
            "1/1 [==============================] - 0s 6ms/step - loss: 0.0046 - accuracy: 1.0000\n",
            "Epoch 54/500\n",
            "1/1 [==============================] - 0s 7ms/step - loss: 0.0044 - accuracy: 1.0000\n",
            "Epoch 55/500\n",
            "1/1 [==============================] - 0s 6ms/step - loss: 0.0041 - accuracy: 1.0000\n",
            "Epoch 56/500\n",
            "1/1 [==============================] - 0s 5ms/step - loss: 0.0039 - accuracy: 1.0000\n",
            "Epoch 57/500\n",
            "1/1 [==============================] - 0s 9ms/step - loss: 0.0037 - accuracy: 1.0000\n",
            "Epoch 58/500\n",
            "1/1 [==============================] - 0s 7ms/step - loss: 0.0036 - accuracy: 1.0000\n",
            "Epoch 59/500\n",
            "1/1 [==============================] - 0s 5ms/step - loss: 0.0034 - accuracy: 1.0000\n",
            "Epoch 60/500\n",
            "1/1 [==============================] - 0s 5ms/step - loss: 0.0033 - accuracy: 1.0000\n",
            "Epoch 61/500\n",
            "1/1 [==============================] - 0s 6ms/step - loss: 0.0032 - accuracy: 1.0000\n",
            "Epoch 62/500\n",
            "1/1 [==============================] - 0s 6ms/step - loss: 0.0031 - accuracy: 1.0000\n",
            "Epoch 63/500\n",
            "1/1 [==============================] - 0s 6ms/step - loss: 0.0030 - accuracy: 1.0000\n",
            "Epoch 64/500\n",
            "1/1 [==============================] - 0s 5ms/step - loss: 0.0029 - accuracy: 1.0000\n",
            "Epoch 65/500\n",
            "1/1 [==============================] - 0s 5ms/step - loss: 0.0028 - accuracy: 1.0000\n",
            "Epoch 66/500\n",
            "1/1 [==============================] - 0s 5ms/step - loss: 0.0027 - accuracy: 1.0000\n",
            "Epoch 67/500\n",
            "1/1 [==============================] - 0s 5ms/step - loss: 0.0026 - accuracy: 1.0000\n",
            "Epoch 68/500\n",
            "1/1 [==============================] - 0s 6ms/step - loss: 0.0026 - accuracy: 1.0000\n",
            "Epoch 69/500\n",
            "1/1 [==============================] - 0s 5ms/step - loss: 0.0025 - accuracy: 1.0000\n",
            "Epoch 70/500\n",
            "1/1 [==============================] - 0s 5ms/step - loss: 0.0024 - accuracy: 1.0000\n",
            "Epoch 71/500\n",
            "1/1 [==============================] - 0s 5ms/step - loss: 0.0024 - accuracy: 1.0000\n",
            "Epoch 72/500\n",
            "1/1 [==============================] - 0s 6ms/step - loss: 0.0023 - accuracy: 1.0000\n",
            "Epoch 73/500\n",
            "1/1 [==============================] - 0s 7ms/step - loss: 0.0023 - accuracy: 1.0000\n",
            "Epoch 74/500\n",
            "1/1 [==============================] - 0s 5ms/step - loss: 0.0022 - accuracy: 1.0000\n",
            "Epoch 75/500\n",
            "1/1 [==============================] - 0s 5ms/step - loss: 0.0022 - accuracy: 1.0000\n",
            "Epoch 76/500\n",
            "1/1 [==============================] - 0s 5ms/step - loss: 0.0022 - accuracy: 1.0000\n",
            "Epoch 77/500\n",
            "1/1 [==============================] - 0s 6ms/step - loss: 0.0021 - accuracy: 1.0000\n",
            "Epoch 78/500\n",
            "1/1 [==============================] - 0s 6ms/step - loss: 0.0021 - accuracy: 1.0000\n",
            "Epoch 79/500\n",
            "1/1 [==============================] - 0s 5ms/step - loss: 0.0020 - accuracy: 1.0000\n",
            "Epoch 80/500\n",
            "1/1 [==============================] - 0s 6ms/step - loss: 0.0020 - accuracy: 1.0000\n",
            "Epoch 81/500\n",
            "1/1 [==============================] - 0s 6ms/step - loss: 0.0020 - accuracy: 1.0000\n",
            "Epoch 82/500\n",
            "1/1 [==============================] - 0s 5ms/step - loss: 0.0019 - accuracy: 1.0000\n",
            "Epoch 83/500\n",
            "1/1 [==============================] - 0s 5ms/step - loss: 0.0019 - accuracy: 1.0000\n",
            "Epoch 84/500\n",
            "1/1 [==============================] - 0s 5ms/step - loss: 0.0019 - accuracy: 1.0000\n",
            "Epoch 85/500\n",
            "1/1 [==============================] - 0s 9ms/step - loss: 0.0019 - accuracy: 1.0000\n",
            "Epoch 86/500\n",
            "1/1 [==============================] - 0s 6ms/step - loss: 0.0018 - accuracy: 1.0000\n",
            "Epoch 87/500\n",
            "1/1 [==============================] - 0s 5ms/step - loss: 0.0018 - accuracy: 1.0000\n",
            "Epoch 88/500\n",
            "1/1 [==============================] - 0s 6ms/step - loss: 0.0018 - accuracy: 1.0000\n",
            "Epoch 89/500\n",
            "1/1 [==============================] - 0s 6ms/step - loss: 0.0018 - accuracy: 1.0000\n",
            "Epoch 90/500\n",
            "1/1 [==============================] - 0s 6ms/step - loss: 0.0017 - accuracy: 1.0000\n",
            "Epoch 91/500\n",
            "1/1 [==============================] - 0s 5ms/step - loss: 0.0017 - accuracy: 1.0000\n",
            "Epoch 92/500\n",
            "1/1 [==============================] - 0s 5ms/step - loss: 0.0017 - accuracy: 1.0000\n",
            "Epoch 93/500\n",
            "1/1 [==============================] - 0s 5ms/step - loss: 0.0017 - accuracy: 1.0000\n",
            "Epoch 94/500\n",
            "1/1 [==============================] - 0s 5ms/step - loss: 0.0017 - accuracy: 1.0000\n",
            "Epoch 95/500\n",
            "1/1 [==============================] - 0s 5ms/step - loss: 0.0016 - accuracy: 1.0000\n",
            "Epoch 96/500\n",
            "1/1 [==============================] - 0s 5ms/step - loss: 0.0016 - accuracy: 1.0000\n",
            "Epoch 97/500\n",
            "1/1 [==============================] - 0s 5ms/step - loss: 0.0016 - accuracy: 1.0000\n",
            "Epoch 98/500\n",
            "1/1 [==============================] - 0s 5ms/step - loss: 0.0016 - accuracy: 1.0000\n",
            "Epoch 99/500\n",
            "1/1 [==============================] - 0s 5ms/step - loss: 0.0016 - accuracy: 1.0000\n",
            "Epoch 100/500\n",
            "1/1 [==============================] - 0s 5ms/step - loss: 0.0015 - accuracy: 1.0000\n",
            "Epoch 101/500\n",
            "1/1 [==============================] - 0s 5ms/step - loss: 0.0015 - accuracy: 1.0000\n",
            "Epoch 102/500\n",
            "1/1 [==============================] - 0s 5ms/step - loss: 0.0015 - accuracy: 1.0000\n",
            "Epoch 103/500\n",
            "1/1 [==============================] - 0s 5ms/step - loss: 0.0015 - accuracy: 1.0000\n",
            "Epoch 104/500\n",
            "1/1 [==============================] - 0s 6ms/step - loss: 0.0015 - accuracy: 1.0000\n",
            "Epoch 105/500\n",
            "1/1 [==============================] - 0s 6ms/step - loss: 0.0015 - accuracy: 1.0000\n",
            "Epoch 106/500\n",
            "1/1 [==============================] - 0s 8ms/step - loss: 0.0014 - accuracy: 1.0000\n",
            "Epoch 107/500\n",
            "1/1 [==============================] - 0s 6ms/step - loss: 0.0014 - accuracy: 1.0000\n",
            "Epoch 108/500\n",
            "1/1 [==============================] - 0s 5ms/step - loss: 0.0014 - accuracy: 1.0000\n",
            "Epoch 109/500\n",
            "1/1 [==============================] - 0s 5ms/step - loss: 0.0014 - accuracy: 1.0000\n",
            "Epoch 110/500\n",
            "1/1 [==============================] - 0s 5ms/step - loss: 0.0014 - accuracy: 1.0000\n",
            "Epoch 111/500\n",
            "1/1 [==============================] - 0s 5ms/step - loss: 0.0014 - accuracy: 1.0000\n",
            "Epoch 112/500\n",
            "1/1 [==============================] - 0s 5ms/step - loss: 0.0014 - accuracy: 1.0000\n",
            "Epoch 113/500\n",
            "1/1 [==============================] - 0s 5ms/step - loss: 0.0013 - accuracy: 1.0000\n",
            "Epoch 114/500\n",
            "1/1 [==============================] - 0s 5ms/step - loss: 0.0013 - accuracy: 1.0000\n",
            "Epoch 115/500\n",
            "1/1 [==============================] - 0s 5ms/step - loss: 0.0013 - accuracy: 1.0000\n",
            "Epoch 116/500\n",
            "1/1 [==============================] - 0s 5ms/step - loss: 0.0013 - accuracy: 1.0000\n",
            "Epoch 117/500\n",
            "1/1 [==============================] - 0s 5ms/step - loss: 0.0013 - accuracy: 1.0000\n",
            "Epoch 118/500\n",
            "1/1 [==============================] - 0s 5ms/step - loss: 0.0013 - accuracy: 1.0000\n",
            "Epoch 119/500\n",
            "1/1 [==============================] - 0s 5ms/step - loss: 0.0013 - accuracy: 1.0000\n",
            "Epoch 120/500\n",
            "1/1 [==============================] - 0s 5ms/step - loss: 0.0013 - accuracy: 1.0000\n",
            "Epoch 121/500\n",
            "1/1 [==============================] - 0s 10ms/step - loss: 0.0012 - accuracy: 1.0000\n",
            "Epoch 122/500\n",
            "1/1 [==============================] - 0s 8ms/step - loss: 0.0012 - accuracy: 1.0000\n",
            "Epoch 123/500\n",
            "1/1 [==============================] - 0s 7ms/step - loss: 0.0012 - accuracy: 1.0000\n",
            "Epoch 124/500\n",
            "1/1 [==============================] - 0s 5ms/step - loss: 0.0012 - accuracy: 1.0000\n",
            "Epoch 125/500\n",
            "1/1 [==============================] - 0s 9ms/step - loss: 0.0012 - accuracy: 1.0000\n",
            "Epoch 126/500\n",
            "1/1 [==============================] - 0s 5ms/step - loss: 0.0012 - accuracy: 1.0000\n",
            "Epoch 127/500\n",
            "1/1 [==============================] - 0s 5ms/step - loss: 0.0012 - accuracy: 1.0000\n",
            "Epoch 128/500\n",
            "1/1 [==============================] - 0s 5ms/step - loss: 0.0012 - accuracy: 1.0000\n",
            "Epoch 129/500\n",
            "1/1 [==============================] - 0s 5ms/step - loss: 0.0012 - accuracy: 1.0000\n",
            "Epoch 130/500\n",
            "1/1 [==============================] - 0s 5ms/step - loss: 0.0011 - accuracy: 1.0000\n",
            "Epoch 131/500\n",
            "1/1 [==============================] - 0s 5ms/step - loss: 0.0011 - accuracy: 1.0000\n",
            "Epoch 132/500\n",
            "1/1 [==============================] - 0s 5ms/step - loss: 0.0011 - accuracy: 1.0000\n",
            "Epoch 133/500\n",
            "1/1 [==============================] - 0s 5ms/step - loss: 0.0011 - accuracy: 1.0000\n",
            "Epoch 134/500\n",
            "1/1 [==============================] - 0s 5ms/step - loss: 0.0011 - accuracy: 1.0000\n",
            "Epoch 135/500\n",
            "1/1 [==============================] - 0s 5ms/step - loss: 0.0011 - accuracy: 1.0000\n",
            "Epoch 136/500\n",
            "1/1 [==============================] - 0s 5ms/step - loss: 0.0011 - accuracy: 1.0000\n",
            "Epoch 137/500\n",
            "1/1 [==============================] - 0s 5ms/step - loss: 0.0011 - accuracy: 1.0000\n",
            "Epoch 138/500\n",
            "1/1 [==============================] - 0s 5ms/step - loss: 0.0011 - accuracy: 1.0000\n",
            "Epoch 139/500\n",
            "1/1 [==============================] - 0s 6ms/step - loss: 0.0011 - accuracy: 1.0000\n",
            "Epoch 140/500\n",
            "1/1 [==============================] - 0s 5ms/step - loss: 0.0011 - accuracy: 1.0000\n",
            "Epoch 141/500\n",
            "1/1 [==============================] - 0s 5ms/step - loss: 0.0010 - accuracy: 1.0000\n",
            "Epoch 142/500\n",
            "1/1 [==============================] - 0s 4ms/step - loss: 0.0010 - accuracy: 1.0000\n",
            "Epoch 143/500\n",
            "1/1 [==============================] - 0s 4ms/step - loss: 0.0010 - accuracy: 1.0000\n",
            "Epoch 144/500\n",
            "1/1 [==============================] - 0s 7ms/step - loss: 0.0010 - accuracy: 1.0000\n",
            "Epoch 145/500\n",
            "1/1 [==============================] - 0s 5ms/step - loss: 0.0010 - accuracy: 1.0000\n",
            "Epoch 146/500\n",
            "1/1 [==============================] - 0s 5ms/step - loss: 9.9750e-04 - accuracy: 1.0000\n",
            "Epoch 147/500\n",
            "1/1 [==============================] - 0s 5ms/step - loss: 9.8912e-04 - accuracy: 1.0000\n",
            "Epoch 148/500\n",
            "1/1 [==============================] - 0s 4ms/step - loss: 9.8082e-04 - accuracy: 1.0000\n",
            "Epoch 149/500\n",
            "1/1 [==============================] - 0s 5ms/step - loss: 9.7264e-04 - accuracy: 1.0000\n",
            "Epoch 150/500\n",
            "1/1 [==============================] - 0s 4ms/step - loss: 9.6458e-04 - accuracy: 1.0000\n",
            "Epoch 151/500\n",
            "1/1 [==============================] - 0s 7ms/step - loss: 9.5659e-04 - accuracy: 1.0000\n",
            "Epoch 152/500\n",
            "1/1 [==============================] - 0s 4ms/step - loss: 9.4872e-04 - accuracy: 1.0000\n",
            "Epoch 153/500\n",
            "1/1 [==============================] - 0s 4ms/step - loss: 9.4087e-04 - accuracy: 1.0000\n",
            "Epoch 154/500\n",
            "1/1 [==============================] - 0s 4ms/step - loss: 9.3320e-04 - accuracy: 1.0000\n",
            "Epoch 155/500\n",
            "1/1 [==============================] - 0s 4ms/step - loss: 9.2558e-04 - accuracy: 1.0000\n",
            "Epoch 156/500\n",
            "1/1 [==============================] - 0s 4ms/step - loss: 9.1806e-04 - accuracy: 1.0000\n",
            "Epoch 157/500\n",
            "1/1 [==============================] - 0s 4ms/step - loss: 9.1066e-04 - accuracy: 1.0000\n",
            "Epoch 158/500\n",
            "1/1 [==============================] - 0s 4ms/step - loss: 9.0328e-04 - accuracy: 1.0000\n",
            "Epoch 159/500\n",
            "1/1 [==============================] - 0s 4ms/step - loss: 8.9604e-04 - accuracy: 1.0000\n",
            "Epoch 160/500\n",
            "1/1 [==============================] - 0s 4ms/step - loss: 8.8888e-04 - accuracy: 1.0000\n",
            "Epoch 161/500\n",
            "1/1 [==============================] - 0s 5ms/step - loss: 8.8181e-04 - accuracy: 1.0000\n",
            "Epoch 162/500\n",
            "1/1 [==============================] - 0s 4ms/step - loss: 8.7477e-04 - accuracy: 1.0000\n",
            "Epoch 163/500\n",
            "1/1 [==============================] - 0s 5ms/step - loss: 8.6787e-04 - accuracy: 1.0000\n",
            "Epoch 164/500\n",
            "1/1 [==============================] - 0s 4ms/step - loss: 8.6106e-04 - accuracy: 1.0000\n",
            "Epoch 165/500\n",
            "1/1 [==============================] - 0s 4ms/step - loss: 8.5431e-04 - accuracy: 1.0000\n",
            "Epoch 166/500\n",
            "1/1 [==============================] - 0s 4ms/step - loss: 8.4759e-04 - accuracy: 1.0000\n",
            "Epoch 167/500\n",
            "1/1 [==============================] - 0s 4ms/step - loss: 8.4103e-04 - accuracy: 1.0000\n",
            "Epoch 168/500\n",
            "1/1 [==============================] - 0s 6ms/step - loss: 8.3451e-04 - accuracy: 1.0000\n",
            "Epoch 169/500\n",
            "1/1 [==============================] - 0s 4ms/step - loss: 8.2804e-04 - accuracy: 1.0000\n",
            "Epoch 170/500\n",
            "1/1 [==============================] - 0s 5ms/step - loss: 8.2164e-04 - accuracy: 1.0000\n",
            "Epoch 171/500\n",
            "1/1 [==============================] - 0s 5ms/step - loss: 8.1541e-04 - accuracy: 1.0000\n",
            "Epoch 172/500\n",
            "1/1 [==============================] - 0s 5ms/step - loss: 8.0917e-04 - accuracy: 1.0000\n",
            "Epoch 173/500\n",
            "1/1 [==============================] - 0s 5ms/step - loss: 8.0300e-04 - accuracy: 1.0000\n",
            "Epoch 174/500\n",
            "1/1 [==============================] - 0s 5ms/step - loss: 7.9689e-04 - accuracy: 1.0000\n",
            "Epoch 175/500\n",
            "1/1 [==============================] - 0s 5ms/step - loss: 7.9089e-04 - accuracy: 1.0000\n",
            "Epoch 176/500\n",
            "1/1 [==============================] - 0s 5ms/step - loss: 7.8490e-04 - accuracy: 1.0000\n",
            "Epoch 177/500\n",
            "1/1 [==============================] - 0s 5ms/step - loss: 7.7899e-04 - accuracy: 1.0000\n",
            "Epoch 178/500\n",
            "1/1 [==============================] - 0s 5ms/step - loss: 7.7318e-04 - accuracy: 1.0000\n",
            "Epoch 179/500\n",
            "1/1 [==============================] - 0s 4ms/step - loss: 7.6741e-04 - accuracy: 1.0000\n",
            "Epoch 180/500\n",
            "1/1 [==============================] - 0s 4ms/step - loss: 7.6171e-04 - accuracy: 1.0000\n",
            "Epoch 181/500\n",
            "1/1 [==============================] - 0s 5ms/step - loss: 7.5610e-04 - accuracy: 1.0000\n",
            "Epoch 182/500\n",
            "1/1 [==============================] - 0s 4ms/step - loss: 7.5053e-04 - accuracy: 1.0000\n",
            "Epoch 183/500\n",
            "1/1 [==============================] - 0s 5ms/step - loss: 7.4494e-04 - accuracy: 1.0000\n",
            "Epoch 184/500\n",
            "1/1 [==============================] - 0s 4ms/step - loss: 7.3952e-04 - accuracy: 1.0000\n",
            "Epoch 185/500\n",
            "1/1 [==============================] - 0s 5ms/step - loss: 7.3409e-04 - accuracy: 1.0000\n",
            "Epoch 186/500\n",
            "1/1 [==============================] - 0s 4ms/step - loss: 7.2878e-04 - accuracy: 1.0000\n",
            "Epoch 187/500\n",
            "1/1 [==============================] - 0s 4ms/step - loss: 7.2349e-04 - accuracy: 1.0000\n",
            "Epoch 188/500\n",
            "1/1 [==============================] - 0s 5ms/step - loss: 7.1825e-04 - accuracy: 1.0000\n",
            "Epoch 189/500\n",
            "1/1 [==============================] - 0s 6ms/step - loss: 7.1310e-04 - accuracy: 1.0000\n",
            "Epoch 190/500\n",
            "1/1 [==============================] - 0s 5ms/step - loss: 7.0800e-04 - accuracy: 1.0000\n",
            "Epoch 191/500\n",
            "1/1 [==============================] - 0s 4ms/step - loss: 7.0291e-04 - accuracy: 1.0000\n",
            "Epoch 192/500\n",
            "1/1 [==============================] - 0s 4ms/step - loss: 6.9792e-04 - accuracy: 1.0000\n",
            "Epoch 193/500\n",
            "1/1 [==============================] - 0s 4ms/step - loss: 6.9296e-04 - accuracy: 1.0000\n",
            "Epoch 194/500\n",
            "1/1 [==============================] - 0s 5ms/step - loss: 6.8805e-04 - accuracy: 1.0000\n",
            "Epoch 195/500\n",
            "1/1 [==============================] - 0s 5ms/step - loss: 6.8320e-04 - accuracy: 1.0000\n",
            "Epoch 196/500\n",
            "1/1 [==============================] - 0s 5ms/step - loss: 6.7840e-04 - accuracy: 1.0000\n",
            "Epoch 197/500\n",
            "1/1 [==============================] - 0s 5ms/step - loss: 6.7362e-04 - accuracy: 1.0000\n",
            "Epoch 198/500\n",
            "1/1 [==============================] - 0s 5ms/step - loss: 6.6893e-04 - accuracy: 1.0000\n",
            "Epoch 199/500\n",
            "1/1 [==============================] - 0s 5ms/step - loss: 6.6426e-04 - accuracy: 1.0000\n",
            "Epoch 200/500\n",
            "1/1 [==============================] - 0s 5ms/step - loss: 6.5965e-04 - accuracy: 1.0000\n",
            "Epoch 201/500\n",
            "1/1 [==============================] - 0s 4ms/step - loss: 6.5512e-04 - accuracy: 1.0000\n",
            "Epoch 202/500\n",
            "1/1 [==============================] - 0s 4ms/step - loss: 6.5058e-04 - accuracy: 1.0000\n",
            "Epoch 203/500\n",
            "1/1 [==============================] - 0s 4ms/step - loss: 6.4611e-04 - accuracy: 1.0000\n",
            "Epoch 204/500\n",
            "1/1 [==============================] - 0s 4ms/step - loss: 6.4168e-04 - accuracy: 1.0000\n",
            "Epoch 205/500\n",
            "1/1 [==============================] - 0s 5ms/step - loss: 6.3732e-04 - accuracy: 1.0000\n",
            "Epoch 206/500\n",
            "1/1 [==============================] - 0s 4ms/step - loss: 6.3297e-04 - accuracy: 1.0000\n",
            "Epoch 207/500\n",
            "1/1 [==============================] - 0s 5ms/step - loss: 6.2867e-04 - accuracy: 1.0000\n",
            "Epoch 208/500\n",
            "1/1 [==============================] - 0s 4ms/step - loss: 6.2441e-04 - accuracy: 1.0000\n",
            "Epoch 209/500\n",
            "1/1 [==============================] - 0s 5ms/step - loss: 6.2022e-04 - accuracy: 1.0000\n",
            "Epoch 210/500\n",
            "1/1 [==============================] - 0s 5ms/step - loss: 6.1604e-04 - accuracy: 1.0000\n",
            "Epoch 211/500\n",
            "1/1 [==============================] - 0s 5ms/step - loss: 6.1192e-04 - accuracy: 1.0000\n",
            "Epoch 212/500\n",
            "1/1 [==============================] - 0s 4ms/step - loss: 6.0784e-04 - accuracy: 1.0000\n",
            "Epoch 213/500\n",
            "1/1 [==============================] - 0s 4ms/step - loss: 6.0380e-04 - accuracy: 1.0000\n",
            "Epoch 214/500\n",
            "1/1 [==============================] - 0s 5ms/step - loss: 5.9978e-04 - accuracy: 1.0000\n",
            "Epoch 215/500\n",
            "1/1 [==============================] - 0s 5ms/step - loss: 5.9581e-04 - accuracy: 1.0000\n",
            "Epoch 216/500\n",
            "1/1 [==============================] - 0s 5ms/step - loss: 5.9188e-04 - accuracy: 1.0000\n",
            "Epoch 217/500\n",
            "1/1 [==============================] - 0s 4ms/step - loss: 5.8797e-04 - accuracy: 1.0000\n",
            "Epoch 218/500\n",
            "1/1 [==============================] - 0s 5ms/step - loss: 5.8413e-04 - accuracy: 1.0000\n",
            "Epoch 219/500\n",
            "1/1 [==============================] - 0s 4ms/step - loss: 5.8034e-04 - accuracy: 1.0000\n",
            "Epoch 220/500\n",
            "1/1 [==============================] - 0s 4ms/step - loss: 5.7655e-04 - accuracy: 1.0000\n",
            "Epoch 221/500\n",
            "1/1 [==============================] - 0s 4ms/step - loss: 5.7283e-04 - accuracy: 1.0000\n",
            "Epoch 222/500\n",
            "1/1 [==============================] - 0s 4ms/step - loss: 5.6912e-04 - accuracy: 1.0000\n",
            "Epoch 223/500\n",
            "1/1 [==============================] - 0s 255ms/step - loss: 5.6547e-04 - accuracy: 1.0000\n",
            "Epoch 224/500\n",
            "1/1 [==============================] - 0s 5ms/step - loss: 5.6181e-04 - accuracy: 1.0000\n",
            "Epoch 225/500\n",
            "1/1 [==============================] - 0s 5ms/step - loss: 5.5821e-04 - accuracy: 1.0000\n",
            "Epoch 226/500\n",
            "1/1 [==============================] - 0s 5ms/step - loss: 5.5467e-04 - accuracy: 1.0000\n",
            "Epoch 227/500\n",
            "1/1 [==============================] - 0s 5ms/step - loss: 5.5112e-04 - accuracy: 1.0000\n",
            "Epoch 228/500\n",
            "1/1 [==============================] - 0s 5ms/step - loss: 5.4762e-04 - accuracy: 1.0000\n",
            "Epoch 229/500\n",
            "1/1 [==============================] - 0s 6ms/step - loss: 5.4414e-04 - accuracy: 1.0000\n",
            "Epoch 230/500\n",
            "1/1 [==============================] - 0s 5ms/step - loss: 5.4070e-04 - accuracy: 1.0000\n",
            "Epoch 231/500\n",
            "1/1 [==============================] - 0s 5ms/step - loss: 5.3728e-04 - accuracy: 1.0000\n",
            "Epoch 232/500\n",
            "1/1 [==============================] - 0s 5ms/step - loss: 5.3393e-04 - accuracy: 1.0000\n",
            "Epoch 233/500\n",
            "1/1 [==============================] - 0s 5ms/step - loss: 5.3059e-04 - accuracy: 1.0000\n",
            "Epoch 234/500\n",
            "1/1 [==============================] - 0s 5ms/step - loss: 5.2727e-04 - accuracy: 1.0000\n",
            "Epoch 235/500\n",
            "1/1 [==============================] - 0s 5ms/step - loss: 5.2402e-04 - accuracy: 1.0000\n",
            "Epoch 236/500\n",
            "1/1 [==============================] - 0s 5ms/step - loss: 5.2073e-04 - accuracy: 1.0000\n",
            "Epoch 237/500\n",
            "1/1 [==============================] - 0s 5ms/step - loss: 5.1749e-04 - accuracy: 1.0000\n",
            "Epoch 238/500\n",
            "1/1 [==============================] - 0s 5ms/step - loss: 5.1432e-04 - accuracy: 1.0000\n",
            "Epoch 239/500\n",
            "1/1 [==============================] - 0s 5ms/step - loss: 5.1115e-04 - accuracy: 1.0000\n",
            "Epoch 240/500\n",
            "1/1 [==============================] - 0s 5ms/step - loss: 5.0797e-04 - accuracy: 1.0000\n",
            "Epoch 241/500\n",
            "1/1 [==============================] - 0s 8ms/step - loss: 5.0492e-04 - accuracy: 1.0000\n",
            "Epoch 242/500\n",
            "1/1 [==============================] - 0s 7ms/step - loss: 5.0183e-04 - accuracy: 1.0000\n",
            "Epoch 243/500\n",
            "1/1 [==============================] - 0s 6ms/step - loss: 4.9876e-04 - accuracy: 1.0000\n",
            "Epoch 244/500\n",
            "1/1 [==============================] - 0s 7ms/step - loss: 4.9573e-04 - accuracy: 1.0000\n",
            "Epoch 245/500\n",
            "1/1 [==============================] - 0s 7ms/step - loss: 4.9275e-04 - accuracy: 1.0000\n",
            "Epoch 246/500\n",
            "1/1 [==============================] - 0s 7ms/step - loss: 4.8973e-04 - accuracy: 1.0000\n",
            "Epoch 247/500\n",
            "1/1 [==============================] - 0s 7ms/step - loss: 4.8680e-04 - accuracy: 1.0000\n",
            "Epoch 248/500\n",
            "1/1 [==============================] - 0s 9ms/step - loss: 4.8388e-04 - accuracy: 1.0000\n",
            "Epoch 249/500\n",
            "1/1 [==============================] - 0s 6ms/step - loss: 4.8098e-04 - accuracy: 1.0000\n",
            "Epoch 250/500\n",
            "1/1 [==============================] - 0s 6ms/step - loss: 4.7810e-04 - accuracy: 1.0000\n",
            "Epoch 251/500\n",
            "1/1 [==============================] - 0s 6ms/step - loss: 4.7526e-04 - accuracy: 1.0000\n",
            "Epoch 252/500\n",
            "1/1 [==============================] - 0s 9ms/step - loss: 4.7247e-04 - accuracy: 1.0000\n",
            "Epoch 253/500\n",
            "1/1 [==============================] - 0s 7ms/step - loss: 4.6967e-04 - accuracy: 1.0000\n",
            "Epoch 254/500\n",
            "1/1 [==============================] - 0s 10ms/step - loss: 4.6693e-04 - accuracy: 1.0000\n",
            "Epoch 255/500\n",
            "1/1 [==============================] - 0s 6ms/step - loss: 4.6417e-04 - accuracy: 1.0000\n",
            "Epoch 256/500\n",
            "1/1 [==============================] - 0s 5ms/step - loss: 4.6144e-04 - accuracy: 1.0000\n",
            "Epoch 257/500\n",
            "1/1 [==============================] - 0s 7ms/step - loss: 4.5876e-04 - accuracy: 1.0000\n",
            "Epoch 258/500\n",
            "1/1 [==============================] - 0s 5ms/step - loss: 4.5606e-04 - accuracy: 1.0000\n",
            "Epoch 259/500\n",
            "1/1 [==============================] - 0s 6ms/step - loss: 4.5340e-04 - accuracy: 1.0000\n",
            "Epoch 260/500\n",
            "1/1 [==============================] - 0s 6ms/step - loss: 4.5078e-04 - accuracy: 1.0000\n",
            "Epoch 261/500\n",
            "1/1 [==============================] - 0s 5ms/step - loss: 4.4818e-04 - accuracy: 1.0000\n",
            "Epoch 262/500\n",
            "1/1 [==============================] - 0s 5ms/step - loss: 4.4560e-04 - accuracy: 1.0000\n",
            "Epoch 263/500\n",
            "1/1 [==============================] - 0s 5ms/step - loss: 4.4303e-04 - accuracy: 1.0000\n",
            "Epoch 264/500\n",
            "1/1 [==============================] - 0s 5ms/step - loss: 4.4048e-04 - accuracy: 1.0000\n",
            "Epoch 265/500\n",
            "1/1 [==============================] - 0s 5ms/step - loss: 4.3797e-04 - accuracy: 1.0000\n",
            "Epoch 266/500\n",
            "1/1 [==============================] - 0s 6ms/step - loss: 4.3548e-04 - accuracy: 1.0000\n",
            "Epoch 267/500\n",
            "1/1 [==============================] - 0s 5ms/step - loss: 4.3299e-04 - accuracy: 1.0000\n",
            "Epoch 268/500\n",
            "1/1 [==============================] - 0s 6ms/step - loss: 4.3050e-04 - accuracy: 1.0000\n",
            "Epoch 269/500\n",
            "1/1 [==============================] - 0s 5ms/step - loss: 4.2809e-04 - accuracy: 1.0000\n",
            "Epoch 270/500\n",
            "1/1 [==============================] - 0s 5ms/step - loss: 4.2567e-04 - accuracy: 1.0000\n",
            "Epoch 271/500\n",
            "1/1 [==============================] - 0s 5ms/step - loss: 4.2325e-04 - accuracy: 1.0000\n",
            "Epoch 272/500\n",
            "1/1 [==============================] - 0s 5ms/step - loss: 4.2086e-04 - accuracy: 1.0000\n",
            "Epoch 273/500\n",
            "1/1 [==============================] - 0s 5ms/step - loss: 4.1851e-04 - accuracy: 1.0000\n",
            "Epoch 274/500\n",
            "1/1 [==============================] - 0s 5ms/step - loss: 4.1616e-04 - accuracy: 1.0000\n",
            "Epoch 275/500\n",
            "1/1 [==============================] - 0s 5ms/step - loss: 4.1382e-04 - accuracy: 1.0000\n",
            "Epoch 276/500\n",
            "1/1 [==============================] - 0s 5ms/step - loss: 4.1153e-04 - accuracy: 1.0000\n",
            "Epoch 277/500\n",
            "1/1 [==============================] - 0s 6ms/step - loss: 4.0923e-04 - accuracy: 1.0000\n",
            "Epoch 278/500\n",
            "1/1 [==============================] - 0s 6ms/step - loss: 4.0699e-04 - accuracy: 1.0000\n",
            "Epoch 279/500\n",
            "1/1 [==============================] - 0s 6ms/step - loss: 4.0471e-04 - accuracy: 1.0000\n",
            "Epoch 280/500\n",
            "1/1 [==============================] - 0s 6ms/step - loss: 4.0249e-04 - accuracy: 1.0000\n",
            "Epoch 281/500\n",
            "1/1 [==============================] - 0s 6ms/step - loss: 4.0028e-04 - accuracy: 1.0000\n",
            "Epoch 282/500\n",
            "1/1 [==============================] - 0s 5ms/step - loss: 3.9807e-04 - accuracy: 1.0000\n",
            "Epoch 283/500\n",
            "1/1 [==============================] - 0s 5ms/step - loss: 3.9588e-04 - accuracy: 1.0000\n",
            "Epoch 284/500\n",
            "1/1 [==============================] - 0s 6ms/step - loss: 3.9372e-04 - accuracy: 1.0000\n",
            "Epoch 285/500\n",
            "1/1 [==============================] - 0s 5ms/step - loss: 3.9159e-04 - accuracy: 1.0000\n",
            "Epoch 286/500\n",
            "1/1 [==============================] - 0s 5ms/step - loss: 3.8946e-04 - accuracy: 1.0000\n",
            "Epoch 287/500\n",
            "1/1 [==============================] - 0s 5ms/step - loss: 3.8735e-04 - accuracy: 1.0000\n",
            "Epoch 288/500\n",
            "1/1 [==============================] - 0s 5ms/step - loss: 3.8526e-04 - accuracy: 1.0000\n",
            "Epoch 289/500\n",
            "1/1 [==============================] - 0s 6ms/step - loss: 3.8320e-04 - accuracy: 1.0000\n",
            "Epoch 290/500\n",
            "1/1 [==============================] - 0s 5ms/step - loss: 3.8109e-04 - accuracy: 1.0000\n",
            "Epoch 291/500\n",
            "1/1 [==============================] - 0s 5ms/step - loss: 3.7906e-04 - accuracy: 1.0000\n",
            "Epoch 292/500\n",
            "1/1 [==============================] - 0s 8ms/step - loss: 3.7705e-04 - accuracy: 1.0000\n",
            "Epoch 293/500\n",
            "1/1 [==============================] - 0s 5ms/step - loss: 3.7504e-04 - accuracy: 1.0000\n",
            "Epoch 294/500\n",
            "1/1 [==============================] - 0s 8ms/step - loss: 3.7302e-04 - accuracy: 1.0000\n",
            "Epoch 295/500\n",
            "1/1 [==============================] - 0s 5ms/step - loss: 3.7106e-04 - accuracy: 1.0000\n",
            "Epoch 296/500\n",
            "1/1 [==============================] - 0s 11ms/step - loss: 3.6910e-04 - accuracy: 1.0000\n",
            "Epoch 297/500\n",
            "1/1 [==============================] - 0s 9ms/step - loss: 3.6715e-04 - accuracy: 1.0000\n",
            "Epoch 298/500\n",
            "1/1 [==============================] - 0s 9ms/step - loss: 3.6523e-04 - accuracy: 1.0000\n",
            "Epoch 299/500\n",
            "1/1 [==============================] - 0s 9ms/step - loss: 3.6331e-04 - accuracy: 1.0000\n",
            "Epoch 300/500\n",
            "1/1 [==============================] - 0s 8ms/step - loss: 3.6141e-04 - accuracy: 1.0000\n",
            "Epoch 301/500\n",
            "1/1 [==============================] - 0s 8ms/step - loss: 3.5951e-04 - accuracy: 1.0000\n",
            "Epoch 302/500\n",
            "1/1 [==============================] - 0s 8ms/step - loss: 3.5765e-04 - accuracy: 1.0000\n",
            "Epoch 303/500\n",
            "1/1 [==============================] - 0s 8ms/step - loss: 3.5575e-04 - accuracy: 1.0000\n",
            "Epoch 304/500\n",
            "1/1 [==============================] - 0s 7ms/step - loss: 3.5391e-04 - accuracy: 1.0000\n",
            "Epoch 305/500\n",
            "1/1 [==============================] - 0s 7ms/step - loss: 3.5207e-04 - accuracy: 1.0000\n",
            "Epoch 306/500\n",
            "1/1 [==============================] - 0s 246ms/step - loss: 3.5026e-04 - accuracy: 1.0000\n",
            "Epoch 307/500\n",
            "1/1 [==============================] - 0s 6ms/step - loss: 3.4845e-04 - accuracy: 1.0000\n",
            "Epoch 308/500\n",
            "1/1 [==============================] - 0s 5ms/step - loss: 3.4664e-04 - accuracy: 1.0000\n",
            "Epoch 309/500\n",
            "1/1 [==============================] - 0s 5ms/step - loss: 3.4486e-04 - accuracy: 1.0000\n",
            "Epoch 310/500\n",
            "1/1 [==============================] - 0s 5ms/step - loss: 3.4310e-04 - accuracy: 1.0000\n",
            "Epoch 311/500\n",
            "1/1 [==============================] - 0s 5ms/step - loss: 3.4136e-04 - accuracy: 1.0000\n",
            "Epoch 312/500\n",
            "1/1 [==============================] - 0s 5ms/step - loss: 3.3963e-04 - accuracy: 1.0000\n",
            "Epoch 313/500\n",
            "1/1 [==============================] - 0s 5ms/step - loss: 3.3786e-04 - accuracy: 1.0000\n",
            "Epoch 314/500\n",
            "1/1 [==============================] - 0s 5ms/step - loss: 3.3614e-04 - accuracy: 1.0000\n",
            "Epoch 315/500\n",
            "1/1 [==============================] - 0s 5ms/step - loss: 3.3447e-04 - accuracy: 1.0000\n",
            "Epoch 316/500\n",
            "1/1 [==============================] - 0s 5ms/step - loss: 3.3279e-04 - accuracy: 1.0000\n",
            "Epoch 317/500\n",
            "1/1 [==============================] - 0s 5ms/step - loss: 3.3111e-04 - accuracy: 1.0000\n",
            "Epoch 318/500\n",
            "1/1 [==============================] - 0s 5ms/step - loss: 3.2944e-04 - accuracy: 1.0000\n",
            "Epoch 319/500\n",
            "1/1 [==============================] - 0s 5ms/step - loss: 3.2776e-04 - accuracy: 1.0000\n",
            "Epoch 320/500\n",
            "1/1 [==============================] - 0s 5ms/step - loss: 3.2611e-04 - accuracy: 1.0000\n",
            "Epoch 321/500\n",
            "1/1 [==============================] - 0s 5ms/step - loss: 3.2450e-04 - accuracy: 1.0000\n",
            "Epoch 322/500\n",
            "1/1 [==============================] - 0s 5ms/step - loss: 3.2289e-04 - accuracy: 1.0000\n",
            "Epoch 323/500\n",
            "1/1 [==============================] - 0s 4ms/step - loss: 3.2129e-04 - accuracy: 1.0000\n",
            "Epoch 324/500\n",
            "1/1 [==============================] - 0s 5ms/step - loss: 3.1969e-04 - accuracy: 1.0000\n",
            "Epoch 325/500\n",
            "1/1 [==============================] - 0s 6ms/step - loss: 3.1808e-04 - accuracy: 1.0000\n",
            "Epoch 326/500\n",
            "1/1 [==============================] - 0s 5ms/step - loss: 3.1652e-04 - accuracy: 1.0000\n",
            "Epoch 327/500\n",
            "1/1 [==============================] - 0s 5ms/step - loss: 3.1493e-04 - accuracy: 1.0000\n",
            "Epoch 328/500\n",
            "1/1 [==============================] - 0s 6ms/step - loss: 3.1341e-04 - accuracy: 1.0000\n",
            "Epoch 329/500\n",
            "1/1 [==============================] - 0s 6ms/step - loss: 3.1185e-04 - accuracy: 1.0000\n",
            "Epoch 330/500\n",
            "1/1 [==============================] - 0s 6ms/step - loss: 3.1036e-04 - accuracy: 1.0000\n",
            "Epoch 331/500\n",
            "1/1 [==============================] - 0s 5ms/step - loss: 3.0883e-04 - accuracy: 1.0000\n",
            "Epoch 332/500\n",
            "1/1 [==============================] - 0s 5ms/step - loss: 3.0732e-04 - accuracy: 1.0000\n",
            "Epoch 333/500\n",
            "1/1 [==============================] - 0s 5ms/step - loss: 3.0583e-04 - accuracy: 1.0000\n",
            "Epoch 334/500\n",
            "1/1 [==============================] - 0s 5ms/step - loss: 3.0433e-04 - accuracy: 1.0000\n",
            "Epoch 335/500\n",
            "1/1 [==============================] - 0s 5ms/step - loss: 3.0289e-04 - accuracy: 1.0000\n",
            "Epoch 336/500\n",
            "1/1 [==============================] - 0s 5ms/step - loss: 3.0141e-04 - accuracy: 1.0000\n",
            "Epoch 337/500\n",
            "1/1 [==============================] - 0s 6ms/step - loss: 2.9994e-04 - accuracy: 1.0000\n",
            "Epoch 338/500\n",
            "1/1 [==============================] - 0s 8ms/step - loss: 2.9851e-04 - accuracy: 1.0000\n",
            "Epoch 339/500\n",
            "1/1 [==============================] - 0s 7ms/step - loss: 2.9711e-04 - accuracy: 1.0000\n",
            "Epoch 340/500\n",
            "1/1 [==============================] - 0s 7ms/step - loss: 2.9565e-04 - accuracy: 1.0000\n",
            "Epoch 341/500\n",
            "1/1 [==============================] - 0s 7ms/step - loss: 2.9424e-04 - accuracy: 1.0000\n",
            "Epoch 342/500\n",
            "1/1 [==============================] - 0s 7ms/step - loss: 2.9286e-04 - accuracy: 1.0000\n",
            "Epoch 343/500\n",
            "1/1 [==============================] - 0s 7ms/step - loss: 2.9144e-04 - accuracy: 1.0000\n",
            "Epoch 344/500\n",
            "1/1 [==============================] - 0s 8ms/step - loss: 2.9007e-04 - accuracy: 1.0000\n",
            "Epoch 345/500\n",
            "1/1 [==============================] - 0s 7ms/step - loss: 2.8870e-04 - accuracy: 1.0000\n",
            "Epoch 346/500\n",
            "1/1 [==============================] - 0s 8ms/step - loss: 2.8732e-04 - accuracy: 1.0000\n",
            "Epoch 347/500\n",
            "1/1 [==============================] - 0s 7ms/step - loss: 2.8599e-04 - accuracy: 1.0000\n",
            "Epoch 348/500\n",
            "1/1 [==============================] - 0s 6ms/step - loss: 2.8463e-04 - accuracy: 1.0000\n",
            "Epoch 349/500\n",
            "1/1 [==============================] - 0s 7ms/step - loss: 2.8330e-04 - accuracy: 1.0000\n",
            "Epoch 350/500\n",
            "1/1 [==============================] - 0s 7ms/step - loss: 2.8199e-04 - accuracy: 1.0000\n",
            "Epoch 351/500\n",
            "1/1 [==============================] - 0s 8ms/step - loss: 2.8066e-04 - accuracy: 1.0000\n",
            "Epoch 352/500\n",
            "1/1 [==============================] - 0s 7ms/step - loss: 2.7935e-04 - accuracy: 1.0000\n",
            "Epoch 353/500\n",
            "1/1 [==============================] - 0s 6ms/step - loss: 2.7807e-04 - accuracy: 1.0000\n",
            "Epoch 354/500\n",
            "1/1 [==============================] - 0s 6ms/step - loss: 2.7681e-04 - accuracy: 1.0000\n",
            "Epoch 355/500\n",
            "1/1 [==============================] - 0s 7ms/step - loss: 2.7551e-04 - accuracy: 1.0000\n",
            "Epoch 356/500\n",
            "1/1 [==============================] - 0s 7ms/step - loss: 2.7423e-04 - accuracy: 1.0000\n",
            "Epoch 357/500\n",
            "1/1 [==============================] - 0s 7ms/step - loss: 2.7297e-04 - accuracy: 1.0000\n",
            "Epoch 358/500\n",
            "1/1 [==============================] - 0s 8ms/step - loss: 2.7171e-04 - accuracy: 1.0000\n",
            "Epoch 359/500\n",
            "1/1 [==============================] - 0s 7ms/step - loss: 2.7046e-04 - accuracy: 1.0000\n",
            "Epoch 360/500\n",
            "1/1 [==============================] - 0s 7ms/step - loss: 2.6926e-04 - accuracy: 1.0000\n",
            "Epoch 361/500\n",
            "1/1 [==============================] - 0s 7ms/step - loss: 2.6801e-04 - accuracy: 1.0000\n",
            "Epoch 362/500\n",
            "1/1 [==============================] - 0s 8ms/step - loss: 2.6677e-04 - accuracy: 1.0000\n",
            "Epoch 363/500\n",
            "1/1 [==============================] - 0s 7ms/step - loss: 2.6559e-04 - accuracy: 1.0000\n",
            "Epoch 364/500\n",
            "1/1 [==============================] - 0s 7ms/step - loss: 2.6437e-04 - accuracy: 1.0000\n",
            "Epoch 365/500\n",
            "1/1 [==============================] - 0s 6ms/step - loss: 2.6319e-04 - accuracy: 1.0000\n",
            "Epoch 366/500\n",
            "1/1 [==============================] - 0s 8ms/step - loss: 2.6197e-04 - accuracy: 1.0000\n",
            "Epoch 367/500\n",
            "1/1 [==============================] - 0s 8ms/step - loss: 2.6081e-04 - accuracy: 1.0000\n",
            "Epoch 368/500\n",
            "1/1 [==============================] - 0s 7ms/step - loss: 2.5965e-04 - accuracy: 1.0000\n",
            "Epoch 369/500\n",
            "1/1 [==============================] - 0s 7ms/step - loss: 2.5850e-04 - accuracy: 1.0000\n",
            "Epoch 370/500\n",
            "1/1 [==============================] - 0s 7ms/step - loss: 2.5731e-04 - accuracy: 1.0000\n",
            "Epoch 371/500\n",
            "1/1 [==============================] - 0s 7ms/step - loss: 2.5619e-04 - accuracy: 1.0000\n",
            "Epoch 372/500\n",
            "1/1 [==============================] - 0s 7ms/step - loss: 2.5500e-04 - accuracy: 1.0000\n",
            "Epoch 373/500\n",
            "1/1 [==============================] - 0s 7ms/step - loss: 2.5391e-04 - accuracy: 1.0000\n",
            "Epoch 374/500\n",
            "1/1 [==============================] - 0s 10ms/step - loss: 2.5281e-04 - accuracy: 1.0000\n",
            "Epoch 375/500\n",
            "1/1 [==============================] - 0s 11ms/step - loss: 2.5170e-04 - accuracy: 1.0000\n",
            "Epoch 376/500\n",
            "1/1 [==============================] - 0s 7ms/step - loss: 2.5058e-04 - accuracy: 1.0000\n",
            "Epoch 377/500\n",
            "1/1 [==============================] - 0s 8ms/step - loss: 2.4946e-04 - accuracy: 1.0000\n",
            "Epoch 378/500\n",
            "1/1 [==============================] - 0s 7ms/step - loss: 2.4840e-04 - accuracy: 1.0000\n",
            "Epoch 379/500\n",
            "1/1 [==============================] - 0s 7ms/step - loss: 2.4727e-04 - accuracy: 1.0000\n",
            "Epoch 380/500\n",
            "1/1 [==============================] - 0s 7ms/step - loss: 2.4618e-04 - accuracy: 1.0000\n",
            "Epoch 381/500\n",
            "1/1 [==============================] - 0s 7ms/step - loss: 2.4514e-04 - accuracy: 1.0000\n",
            "Epoch 382/500\n",
            "1/1 [==============================] - 0s 7ms/step - loss: 2.4406e-04 - accuracy: 1.0000\n",
            "Epoch 383/500\n",
            "1/1 [==============================] - 0s 7ms/step - loss: 2.4303e-04 - accuracy: 1.0000\n",
            "Epoch 384/500\n",
            "1/1 [==============================] - 0s 6ms/step - loss: 2.4195e-04 - accuracy: 1.0000\n",
            "Epoch 385/500\n",
            "1/1 [==============================] - 0s 7ms/step - loss: 2.4093e-04 - accuracy: 1.0000\n",
            "Epoch 386/500\n",
            "1/1 [==============================] - 0s 7ms/step - loss: 2.3988e-04 - accuracy: 1.0000\n",
            "Epoch 387/500\n",
            "1/1 [==============================] - 0s 6ms/step - loss: 2.3887e-04 - accuracy: 1.0000\n",
            "Epoch 388/500\n",
            "1/1 [==============================] - 0s 6ms/step - loss: 2.3784e-04 - accuracy: 1.0000\n",
            "Epoch 389/500\n",
            "1/1 [==============================] - 0s 6ms/step - loss: 2.3682e-04 - accuracy: 1.0000\n",
            "Epoch 390/500\n",
            "1/1 [==============================] - 0s 7ms/step - loss: 2.3580e-04 - accuracy: 1.0000\n",
            "Epoch 391/500\n",
            "1/1 [==============================] - 0s 6ms/step - loss: 2.3481e-04 - accuracy: 1.0000\n",
            "Epoch 392/500\n",
            "1/1 [==============================] - 0s 6ms/step - loss: 2.3379e-04 - accuracy: 1.0000\n",
            "Epoch 393/500\n",
            "1/1 [==============================] - 0s 6ms/step - loss: 2.3281e-04 - accuracy: 1.0000\n",
            "Epoch 394/500\n",
            "1/1 [==============================] - 0s 6ms/step - loss: 2.3182e-04 - accuracy: 1.0000\n",
            "Epoch 395/500\n",
            "1/1 [==============================] - 0s 6ms/step - loss: 2.3084e-04 - accuracy: 1.0000\n",
            "Epoch 396/500\n",
            "1/1 [==============================] - 0s 6ms/step - loss: 2.2987e-04 - accuracy: 1.0000\n",
            "Epoch 397/500\n",
            "1/1 [==============================] - 0s 6ms/step - loss: 2.2888e-04 - accuracy: 1.0000\n",
            "Epoch 398/500\n",
            "1/1 [==============================] - 0s 7ms/step - loss: 2.2791e-04 - accuracy: 1.0000\n",
            "Epoch 399/500\n",
            "1/1 [==============================] - 0s 7ms/step - loss: 2.2698e-04 - accuracy: 1.0000\n",
            "Epoch 400/500\n",
            "1/1 [==============================] - 0s 7ms/step - loss: 2.2603e-04 - accuracy: 1.0000\n",
            "Epoch 401/500\n",
            "1/1 [==============================] - 0s 7ms/step - loss: 2.2509e-04 - accuracy: 1.0000\n",
            "Epoch 402/500\n",
            "1/1 [==============================] - 0s 7ms/step - loss: 2.2418e-04 - accuracy: 1.0000\n",
            "Epoch 403/500\n",
            "1/1 [==============================] - 0s 6ms/step - loss: 2.2321e-04 - accuracy: 1.0000\n",
            "Epoch 404/500\n",
            "1/1 [==============================] - 0s 7ms/step - loss: 2.2228e-04 - accuracy: 1.0000\n",
            "Epoch 405/500\n",
            "1/1 [==============================] - 0s 6ms/step - loss: 2.2136e-04 - accuracy: 1.0000\n",
            "Epoch 406/500\n",
            "1/1 [==============================] - 0s 7ms/step - loss: 2.2044e-04 - accuracy: 1.0000\n",
            "Epoch 407/500\n",
            "1/1 [==============================] - 0s 7ms/step - loss: 2.1957e-04 - accuracy: 1.0000\n",
            "Epoch 408/500\n",
            "1/1 [==============================] - 0s 7ms/step - loss: 2.1864e-04 - accuracy: 1.0000\n",
            "Epoch 409/500\n",
            "1/1 [==============================] - 0s 6ms/step - loss: 2.1775e-04 - accuracy: 1.0000\n",
            "Epoch 410/500\n",
            "1/1 [==============================] - 0s 7ms/step - loss: 2.1686e-04 - accuracy: 1.0000\n",
            "Epoch 411/500\n",
            "1/1 [==============================] - 0s 7ms/step - loss: 2.1595e-04 - accuracy: 1.0000\n",
            "Epoch 412/500\n",
            "1/1 [==============================] - 0s 7ms/step - loss: 2.1510e-04 - accuracy: 1.0000\n",
            "Epoch 413/500\n",
            "1/1 [==============================] - 0s 9ms/step - loss: 2.1419e-04 - accuracy: 1.0000\n",
            "Epoch 414/500\n",
            "1/1 [==============================] - 0s 7ms/step - loss: 2.1332e-04 - accuracy: 1.0000\n",
            "Epoch 415/500\n",
            "1/1 [==============================] - 0s 7ms/step - loss: 2.1250e-04 - accuracy: 1.0000\n",
            "Epoch 416/500\n",
            "1/1 [==============================] - 0s 6ms/step - loss: 2.1160e-04 - accuracy: 1.0000\n",
            "Epoch 417/500\n",
            "1/1 [==============================] - 0s 6ms/step - loss: 2.1079e-04 - accuracy: 1.0000\n",
            "Epoch 418/500\n",
            "1/1 [==============================] - 0s 7ms/step - loss: 2.0991e-04 - accuracy: 1.0000\n",
            "Epoch 419/500\n",
            "1/1 [==============================] - 0s 6ms/step - loss: 2.0906e-04 - accuracy: 1.0000\n",
            "Epoch 420/500\n",
            "1/1 [==============================] - 0s 7ms/step - loss: 2.0823e-04 - accuracy: 1.0000\n",
            "Epoch 421/500\n",
            "1/1 [==============================] - 0s 7ms/step - loss: 2.0740e-04 - accuracy: 1.0000\n",
            "Epoch 422/500\n",
            "1/1 [==============================] - 0s 7ms/step - loss: 2.0656e-04 - accuracy: 1.0000\n",
            "Epoch 423/500\n",
            "1/1 [==============================] - 0s 7ms/step - loss: 2.0570e-04 - accuracy: 1.0000\n",
            "Epoch 424/500\n",
            "1/1 [==============================] - 0s 7ms/step - loss: 2.0490e-04 - accuracy: 1.0000\n",
            "Epoch 425/500\n",
            "1/1 [==============================] - 0s 7ms/step - loss: 2.0407e-04 - accuracy: 1.0000\n",
            "Epoch 426/500\n",
            "1/1 [==============================] - 0s 7ms/step - loss: 2.0328e-04 - accuracy: 1.0000\n",
            "Epoch 427/500\n",
            "1/1 [==============================] - 0s 7ms/step - loss: 2.0243e-04 - accuracy: 1.0000\n",
            "Epoch 428/500\n",
            "1/1 [==============================] - 0s 7ms/step - loss: 2.0161e-04 - accuracy: 1.0000\n",
            "Epoch 429/500\n",
            "1/1 [==============================] - 0s 6ms/step - loss: 2.0082e-04 - accuracy: 1.0000\n",
            "Epoch 430/500\n",
            "1/1 [==============================] - 0s 7ms/step - loss: 2.0004e-04 - accuracy: 1.0000\n",
            "Epoch 431/500\n",
            "1/1 [==============================] - 0s 6ms/step - loss: 1.9925e-04 - accuracy: 1.0000\n",
            "Epoch 432/500\n",
            "1/1 [==============================] - 0s 6ms/step - loss: 1.9847e-04 - accuracy: 1.0000\n",
            "Epoch 433/500\n",
            "1/1 [==============================] - 0s 7ms/step - loss: 1.9767e-04 - accuracy: 1.0000\n",
            "Epoch 434/500\n",
            "1/1 [==============================] - 0s 6ms/step - loss: 1.9691e-04 - accuracy: 1.0000\n",
            "Epoch 435/500\n",
            "1/1 [==============================] - 0s 6ms/step - loss: 1.9610e-04 - accuracy: 1.0000\n",
            "Epoch 436/500\n",
            "1/1 [==============================] - 0s 5ms/step - loss: 1.9534e-04 - accuracy: 1.0000\n",
            "Epoch 437/500\n",
            "1/1 [==============================] - 0s 5ms/step - loss: 1.9459e-04 - accuracy: 1.0000\n",
            "Epoch 438/500\n",
            "1/1 [==============================] - 0s 5ms/step - loss: 1.9379e-04 - accuracy: 1.0000\n",
            "Epoch 439/500\n",
            "1/1 [==============================] - 0s 5ms/step - loss: 1.9304e-04 - accuracy: 1.0000\n",
            "Epoch 440/500\n",
            "1/1 [==============================] - 0s 5ms/step - loss: 1.9230e-04 - accuracy: 1.0000\n",
            "Epoch 441/500\n",
            "1/1 [==============================] - 0s 5ms/step - loss: 1.9157e-04 - accuracy: 1.0000\n",
            "Epoch 442/500\n",
            "1/1 [==============================] - 0s 6ms/step - loss: 1.9083e-04 - accuracy: 1.0000\n",
            "Epoch 443/500\n",
            "1/1 [==============================] - 0s 6ms/step - loss: 1.9008e-04 - accuracy: 1.0000\n",
            "Epoch 444/500\n",
            "1/1 [==============================] - 0s 6ms/step - loss: 1.8934e-04 - accuracy: 1.0000\n",
            "Epoch 445/500\n",
            "1/1 [==============================] - 0s 6ms/step - loss: 1.8863e-04 - accuracy: 1.0000\n",
            "Epoch 446/500\n",
            "1/1 [==============================] - 0s 6ms/step - loss: 1.8792e-04 - accuracy: 1.0000\n",
            "Epoch 447/500\n",
            "1/1 [==============================] - 0s 6ms/step - loss: 1.8718e-04 - accuracy: 1.0000\n",
            "Epoch 448/500\n",
            "1/1 [==============================] - 0s 6ms/step - loss: 1.8646e-04 - accuracy: 1.0000\n",
            "Epoch 449/500\n",
            "1/1 [==============================] - 0s 6ms/step - loss: 1.8576e-04 - accuracy: 1.0000\n",
            "Epoch 450/500\n",
            "1/1 [==============================] - 0s 6ms/step - loss: 1.8506e-04 - accuracy: 1.0000\n",
            "Epoch 451/500\n",
            "1/1 [==============================] - 0s 6ms/step - loss: 1.8433e-04 - accuracy: 1.0000\n",
            "Epoch 452/500\n",
            "1/1 [==============================] - 0s 7ms/step - loss: 1.8363e-04 - accuracy: 1.0000\n",
            "Epoch 453/500\n",
            "1/1 [==============================] - 0s 6ms/step - loss: 1.8295e-04 - accuracy: 1.0000\n",
            "Epoch 454/500\n",
            "1/1 [==============================] - 0s 7ms/step - loss: 1.8227e-04 - accuracy: 1.0000\n",
            "Epoch 455/500\n",
            "1/1 [==============================] - 0s 7ms/step - loss: 1.8159e-04 - accuracy: 1.0000\n",
            "Epoch 456/500\n",
            "1/1 [==============================] - 0s 8ms/step - loss: 1.8090e-04 - accuracy: 1.0000\n",
            "Epoch 457/500\n",
            "1/1 [==============================] - 0s 7ms/step - loss: 1.8018e-04 - accuracy: 1.0000\n",
            "Epoch 458/500\n",
            "1/1 [==============================] - 0s 6ms/step - loss: 1.7953e-04 - accuracy: 1.0000\n",
            "Epoch 459/500\n",
            "1/1 [==============================] - 0s 7ms/step - loss: 1.7884e-04 - accuracy: 1.0000\n",
            "Epoch 460/500\n",
            "1/1 [==============================] - 0s 7ms/step - loss: 1.7821e-04 - accuracy: 1.0000\n",
            "Epoch 461/500\n",
            "1/1 [==============================] - 0s 7ms/step - loss: 1.7752e-04 - accuracy: 1.0000\n",
            "Epoch 462/500\n",
            "1/1 [==============================] - 0s 7ms/step - loss: 1.7686e-04 - accuracy: 1.0000\n",
            "Epoch 463/500\n",
            "1/1 [==============================] - 0s 8ms/step - loss: 1.7618e-04 - accuracy: 1.0000\n",
            "Epoch 464/500\n",
            "1/1 [==============================] - 0s 7ms/step - loss: 1.7555e-04 - accuracy: 1.0000\n",
            "Epoch 465/500\n",
            "1/1 [==============================] - 0s 7ms/step - loss: 1.7490e-04 - accuracy: 1.0000\n",
            "Epoch 466/500\n",
            "1/1 [==============================] - 0s 7ms/step - loss: 1.7423e-04 - accuracy: 1.0000\n",
            "Epoch 467/500\n",
            "1/1 [==============================] - 0s 7ms/step - loss: 1.7359e-04 - accuracy: 1.0000\n",
            "Epoch 468/500\n",
            "1/1 [==============================] - 0s 7ms/step - loss: 1.7297e-04 - accuracy: 1.0000\n",
            "Epoch 469/500\n",
            "1/1 [==============================] - 0s 7ms/step - loss: 1.7233e-04 - accuracy: 1.0000\n",
            "Epoch 470/500\n",
            "1/1 [==============================] - 0s 7ms/step - loss: 1.7172e-04 - accuracy: 1.0000\n",
            "Epoch 471/500\n",
            "1/1 [==============================] - 0s 8ms/step - loss: 1.7107e-04 - accuracy: 1.0000\n",
            "Epoch 472/500\n",
            "1/1 [==============================] - 0s 7ms/step - loss: 1.7043e-04 - accuracy: 1.0000\n",
            "Epoch 473/500\n",
            "1/1 [==============================] - 0s 213ms/step - loss: 1.6984e-04 - accuracy: 1.0000\n",
            "Epoch 474/500\n",
            "1/1 [==============================] - 0s 6ms/step - loss: 1.6921e-04 - accuracy: 1.0000\n",
            "Epoch 475/500\n",
            "1/1 [==============================] - 0s 6ms/step - loss: 1.6861e-04 - accuracy: 1.0000\n",
            "Epoch 476/500\n",
            "1/1 [==============================] - 0s 6ms/step - loss: 1.6797e-04 - accuracy: 1.0000\n",
            "Epoch 477/500\n",
            "1/1 [==============================] - 0s 7ms/step - loss: 1.6736e-04 - accuracy: 1.0000\n",
            "Epoch 478/500\n",
            "1/1 [==============================] - 0s 6ms/step - loss: 1.6676e-04 - accuracy: 1.0000\n",
            "Epoch 479/500\n",
            "1/1 [==============================] - 0s 5ms/step - loss: 1.6617e-04 - accuracy: 1.0000\n",
            "Epoch 480/500\n",
            "1/1 [==============================] - 0s 6ms/step - loss: 1.6556e-04 - accuracy: 1.0000\n",
            "Epoch 481/500\n",
            "1/1 [==============================] - 0s 6ms/step - loss: 1.6497e-04 - accuracy: 1.0000\n",
            "Epoch 482/500\n",
            "1/1 [==============================] - 0s 6ms/step - loss: 1.6434e-04 - accuracy: 1.0000\n",
            "Epoch 483/500\n",
            "1/1 [==============================] - 0s 5ms/step - loss: 1.6376e-04 - accuracy: 1.0000\n",
            "Epoch 484/500\n",
            "1/1 [==============================] - 0s 7ms/step - loss: 1.6318e-04 - accuracy: 1.0000\n",
            "Epoch 485/500\n",
            "1/1 [==============================] - 0s 6ms/step - loss: 1.6260e-04 - accuracy: 1.0000\n",
            "Epoch 486/500\n",
            "1/1 [==============================] - 0s 7ms/step - loss: 1.6203e-04 - accuracy: 1.0000\n",
            "Epoch 487/500\n",
            "1/1 [==============================] - 0s 7ms/step - loss: 1.6146e-04 - accuracy: 1.0000\n",
            "Epoch 488/500\n",
            "1/1 [==============================] - 0s 7ms/step - loss: 1.6086e-04 - accuracy: 1.0000\n",
            "Epoch 489/500\n",
            "1/1 [==============================] - 0s 7ms/step - loss: 1.6030e-04 - accuracy: 1.0000\n",
            "Epoch 490/500\n",
            "1/1 [==============================] - 0s 6ms/step - loss: 1.5975e-04 - accuracy: 1.0000\n",
            "Epoch 491/500\n",
            "1/1 [==============================] - 0s 6ms/step - loss: 1.5920e-04 - accuracy: 1.0000\n",
            "Epoch 492/500\n",
            "1/1 [==============================] - 0s 7ms/step - loss: 1.5861e-04 - accuracy: 1.0000\n",
            "Epoch 493/500\n",
            "1/1 [==============================] - 0s 7ms/step - loss: 1.5805e-04 - accuracy: 1.0000\n",
            "Epoch 494/500\n",
            "1/1 [==============================] - 0s 7ms/step - loss: 1.5749e-04 - accuracy: 1.0000\n",
            "Epoch 495/500\n",
            "1/1 [==============================] - 0s 6ms/step - loss: 1.5697e-04 - accuracy: 1.0000\n",
            "Epoch 496/500\n",
            "1/1 [==============================] - 0s 6ms/step - loss: 1.5638e-04 - accuracy: 1.0000\n",
            "Epoch 497/500\n",
            "1/1 [==============================] - 0s 7ms/step - loss: 1.5583e-04 - accuracy: 1.0000\n",
            "Epoch 498/500\n",
            "1/1 [==============================] - 0s 6ms/step - loss: 1.5531e-04 - accuracy: 1.0000\n",
            "Epoch 499/500\n",
            "1/1 [==============================] - 0s 6ms/step - loss: 1.5476e-04 - accuracy: 1.0000\n",
            "Epoch 500/500\n",
            "1/1 [==============================] - 0s 6ms/step - loss: 1.5422e-04 - accuracy: 1.0000\n"
          ]
        },
        {
          "output_type": "execute_result",
          "data": {
            "text/plain": [
              "<keras.callbacks.History at 0x7fdb05b8d650>"
            ]
          },
          "metadata": {},
          "execution_count": 84
        }
      ]
    },
    {
      "cell_type": "code",
      "source": [
        "x_test = np.reshape(x_test, [-1, input_size])\n",
        "scores = model.evaluate(x_test,\n",
        "                        y_test,\n",
        "                        batch_size=batch_size,\n",
        "                        verbose=False)\n",
        "print('Test loss:', scores[0])\n",
        "print('Test accuracy: %0.1f%%' % (100 * scores[1]) )"
      ],
      "metadata": {
        "colab": {
          "base_uri": "https://localhost:8080/"
        },
        "id": "ROJ0-VdspKN1",
        "outputId": "30f60f87-fa19-474c-8bfb-e5bcaddbf5d4"
      },
      "execution_count": null,
      "outputs": [
        {
          "output_type": "stream",
          "name": "stderr",
          "text": [
            "WARNING:tensorflow:Model was constructed with shape (None, 28, 28, 1) for input KerasTensor(type_spec=TensorSpec(shape=(None, 28, 28, 1), dtype=tf.float32, name='flatten_8_input'), name='flatten_8_input', description=\"created by layer 'flatten_8_input'\"), but it was called on an input with incompatible shape (None, 784).\n"
          ]
        },
        {
          "output_type": "stream",
          "name": "stdout",
          "text": [
            "Test loss: 3.0539777278900146\n",
            "Test accuracy: 40.2%\n"
          ]
        }
      ]
    },
    {
      "cell_type": "code",
      "source": [
        "#Show the loss and accuracy.\n",
        "x_test = np.reshape(x_test, [-1, input_size])\n",
        "val_loss,val_acc = model.evaluate(x_test,y_test)\n",
        "print(val_loss,val_acc)\n",
        "\n",
        "model.save('epic_num_reader_augmentation.model.h5')"
      ],
      "metadata": {
        "colab": {
          "base_uri": "https://localhost:8080/"
        },
        "outputId": "a3347e66-ab57-4d99-e119-ba1d84d9f1c8",
        "id": "ElL2LSNhjrPX"
      },
      "execution_count": null,
      "outputs": [
        {
          "output_type": "stream",
          "name": "stdout",
          "text": [
            "313/313 [==============================] - 0s 1ms/step - loss: 3.1839 - accuracy: 0.4391\n",
            "3.183917999267578 0.4390999972820282\n"
          ]
        }
      ]
    },
    {
      "cell_type": "code",
      "source": [
        "new_model = tf.keras.models.load_model('/content/epic_num_reader_augmentation.model.h5')\n",
        "predictions = new_model.predict([x_test])"
      ],
      "metadata": {
        "id": "MCQA41hQjrPY"
      },
      "execution_count": null,
      "outputs": []
    },
    {
      "cell_type": "code",
      "source": [
        "print(\"The number is : \",np.argmax(predictions[22])) \n",
        "\n",
        "#Show the image\n",
        "plt.imshow(x_test[22]) \n",
        "plt.show()"
      ],
      "metadata": {
        "colab": {
          "base_uri": "https://localhost:8080/",
          "height": 282
        },
        "outputId": "665c054c-8603-4875-9257-3ed68d3f5039",
        "id": "BZeGqslPjrPY"
      },
      "execution_count": null,
      "outputs": [
        {
          "output_type": "stream",
          "name": "stdout",
          "text": [
            "The number is :  6\n"
          ]
        },
        {
          "output_type": "display_data",
          "data": {
            "text/plain": [
              "<Figure size 432x288 with 1 Axes>"
            ],
            "image/png": "[encoded data removed]"
          },
          "metadata": {
            "needs_background": "light"
          }
        }
      ]
    },
    {
      "cell_type": "markdown",
      "source": [
        "**Optimizing neural networks using L2 regularization, Dropout and early stopping.**"
      ],
      "metadata": {
        "id": "-DTxCEtzs6Bv"
      }
    },
    {
      "cell_type": "code",
      "execution_count": null,
      "metadata": {
        "id": "y8eqBAy2tAWM"
      },
      "outputs": [],
      "source": [
        "mnist = tf.keras.datasets.mnist #Get the data\n",
        "\n",
        "(x_train, y_train),(x_test, y_test) = mnist.load_data()\n",
        "\n",
        "x_train = tf.keras.utils.normalize(x_train,axis=1)\n",
        "x_test = tf.keras.utils.normalize(x_test,axis=1)"
      ]
    },
    {
      "cell_type": "code",
      "source": [
        "#Create Neural Network\n",
        "model = tf.keras.models.Sequential()\n",
        "model.add(tf.keras.layers.Flatten())\n",
        "model.add(tf.keras.layers.Dense(128,activation = tf.nn.relu,activity_regularizer=tf.keras.regularizers.L2(0.01)))\n",
        "model.add(tf.keras.layers.Dropout(0.5))\n",
        "model.add(tf.keras.layers.Dense(128,activation = tf.nn.relu,activity_regularizer=tf.keras.regularizers.L2(0.01)))\n",
        "model.add(tf.keras.layers.Dropout(0.5))\n",
        "model.add(tf.keras.layers.Dense(10,activation = tf.nn.softmax))"
      ],
      "metadata": {
        "id": "1EGlmHHJtAWO"
      },
      "execution_count": null,
      "outputs": []
    },
    {
      "cell_type": "code",
      "source": [
        "model.compile(optimizer='adam', loss='sparse_categorical_crossentropy',metrics=['accuracy'])"
      ],
      "metadata": {
        "id": "jP9kaRPotAWP"
      },
      "execution_count": null,
      "outputs": []
    },
    {
      "cell_type": "code",
      "source": [
        "callback = tf.keras.callbacks.EarlyStopping(monitor='loss', patience=2)"
      ],
      "metadata": {
        "id": "RKKPS0ZDtXGb"
      },
      "execution_count": null,
      "outputs": []
    },
    {
      "cell_type": "code",
      "source": [
        "model.fit(x_train,y_train,epochs=50,callbacks=[callback])"
      ],
      "metadata": {
        "colab": {
          "base_uri": "https://localhost:8080/"
        },
        "outputId": "cd305f88-3095-4b55-8c99-379ae144fb61",
        "id": "JL9CCRXUtAWP"
      },
      "execution_count": null,
      "outputs": [
        {
          "output_type": "stream",
          "name": "stdout",
          "text": [
            "1875/1875 [==============================] - 3s 2ms/step - loss: 0.2432 - accuracy: 0.9495\n",
            "Epoch 4/50\n",
            "1875/1875 [==============================] - 4s 2ms/step - loss: 0.2476 - accuracy: 0.9486\n"
          ]
        },
        {
          "output_type": "execute_result",
          "data": {
            "text/plain": [
              "<keras.callbacks.History at 0x7fdafe5110d0>"
            ]
          },
          "metadata": {},
          "execution_count": 104
        }
      ]
    },
    {
      "cell_type": "code",
      "source": [
        "#Show the loss and accuracy.\n",
        "val_loss,val_acc = model.evaluate(x_test,y_test)\n",
        "print(val_loss,val_acc)\n",
        "\n",
        "model.save('epic_num_reader_usingalltech.model.h5')"
      ],
      "metadata": {
        "colab": {
          "base_uri": "https://localhost:8080/"
        },
        "outputId": "1e08e0e0-a556-4378-ed1c-07cb8a2e9931",
        "id": "p9kVvdDVtAWQ"
      },
      "execution_count": null,
      "outputs": [
        {
          "output_type": "stream",
          "name": "stdout",
          "text": [
            "313/313 [==============================] - 0s 1ms/step - loss: 0.1682 - accuracy: 0.9688\n",
            "0.16816721856594086 0.9688000082969666\n"
          ]
        }
      ]
    },
    {
      "cell_type": "code",
      "source": [
        "new_model = tf.keras.models.load_model('/content/epic_num_reader_usingalltech.model.h5')\n",
        "predictions = new_model.predict([x_test])"
      ],
      "metadata": {
        "id": "CbdYZEhYtAWR"
      },
      "execution_count": null,
      "outputs": []
    },
    {
      "cell_type": "code",
      "source": [
        "#Convert to understandable form.\n",
        "print(\"The number is : \",np.argmax(predictions[11])) \n",
        "#If you want change the test and prediction numbers\n",
        "\n",
        "#Show the image\n",
        "plt.imshow(x_test[11]) \n",
        "plt.show()"
      ],
      "metadata": {
        "colab": {
          "base_uri": "https://localhost:8080/",
          "height": 282
        },
        "outputId": "035f331e-f65c-4f03-ad84-c6d19e8cb192",
        "id": "4SeWdvUftAWR"
      },
      "execution_count": null,
      "outputs": [
        {
          "output_type": "stream",
          "name": "stdout",
          "text": [
            "The number is :  6\n"
          ]
        },
        {
          "output_type": "display_data",
          "data": {
            "text/plain": [
              "<Figure size 432x288 with 1 Axes>"
            ],
            "image/png": "[encoded data removed]"
          },
          "metadata": {
            "needs_background": "light"
          }
        }
      ]
    }
  ]
}