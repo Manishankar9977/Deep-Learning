{
 "cells": [
  {
   "cell_type": "code",
   "execution_count": 35,
   "metadata": {},
   "outputs": [],
   "source": [
    "import matplotlib.pyplot as plt\n",
    "import tensorflow as tf\n",
    "import numpy as np"
   ]
  },
  {
   "cell_type": "code",
   "execution_count": 36,
   "metadata": {},
   "outputs": [],
   "source": [
    "mnist=tf.keras.datasets.mnist\n",
    "(x_train,y_train), (x_test, y_test) = mnist.load_data()\n",
    "\n",
    "\n",
    "\n"
   ]
  },
  {
   "cell_type": "code",
   "execution_count": 37,
   "metadata": {},
   "outputs": [],
   "source": [
    "rows,cols=28,28\n",
    "x_train=x_train.reshape(x_train.shape[0],rows,cols,1)\n",
    "x_test=x_test.reshape(x_test.shape[0],rows,cols,1)\n",
    "\n",
    "input_shape=(rows,cols,1)\n",
    "\n",
    "x_train=x_train.astype('float32')\n",
    "x_test=x_test.astype('float32')\n",
    "x_train=x_train/255.0\n",
    "x_test=x_test/255.0\n",
    "\n",
    "#one-hot encoding\n",
    "y_train=tf.keras.utils.to_categorical(y_train,10)\n",
    "y_test=tf.keras.utils.to_categorical(y_test,10)"
   ]
  },
  {
   "cell_type": "code",
   "execution_count": 38,
   "metadata": {},
   "outputs": [],
   "source": [
    "def build_Lenet (input_shape):\n",
    "    # sequentail API\n",
    "    model = tf.keras.Sequential()\n",
    "# Convolution #1. Filters as we know, is 6. Filter size is 5 x 5, tanh is the activation function. 28 x 28 is the dimension.\n",
    "    model.add(tf.keras.layers.Conv2D(filters=6, kernel_size=(5, 5), strides=(1,1),activation='tanh',input_shape=input_shape))\n",
    "    #model.add(tf.keras.layers.Conv2D(filters=6,kernel _size=(5,5), strides=(1, 1), activation='tanh', input_shape=input_shape))\n",
    "# SubSampling #1. Input = 28x28x6. Output = 14x14x6. SubSampling is simply Average Pooling so we use avg_pool\n",
    "    model.add(tf.keras.layers.AveragePooling2D(pool_size=(2, 2),strides=(2, 2)))\n",
    "# Convolution #2. Input = 14x14x6. Output = 10x10x16 conv2d\n",
    "    model.add(tf.keras.layers.Conv2D(filters=16,kernel_size=(5, 5), strides=(1, 1), activation='tanh'))\n",
    "# SubSampLing #2. Input = 28×28x6. Output = 14x14x6. SubSampling is simply Average Pooling so we use avg_pool\n",
    "    model.add(tf.keras.layers.AveragePooling2D(pool_size=(2, 2), strides=(2, 2)))\n",
    "    \n",
    "    model.add(tf.keras.layers.Flatten())\n",
    "# We must flatten for the further steps to happen.\n",
    "# It is the process of converting all the resultant 2D arrays as single long continuous Linear vector\n",
    "    model.add(tf.keras. layers.Dense(units=120, activation='tanh'))\n",
    "#Fully Connected #1. Input = 5x5x16. Output = 120\n",
    "    model.add(tf.keras.layers.Flatten())\n",
    "# Flattening here. It is the process of converting all the resultant 2D arrays as single long continuous Linear\n",
    "    model.add(tf.keras.layers.Dense(units=84, activation='tanh'))\n",
    "#FulLy Connected #2. Input = 120. Output = 84\n",
    "# output Layer\n",
    "    model.add(tf.keras.layers.Dense (units=10, activation='softmax'))\n",
    "# Final, output and activation through softmax.\n",
    "    model.compile(loss='categorical_crossentropy',optimizer=tf.keras.optimizers.SGD(lr=0.1, momentum=0.0, decay=0.0),metrics=['accuracy'])\n",
    "# Arguments passed are like the past, nothing to worry!! :)\n",
    "    return model\n",
    "    \n",
    "\n"
   ]
  },
  {
   "cell_type": "code",
   "execution_count": 41,
   "metadata": {},
   "outputs": [],
   "source": [
    "lenet = build_Lenet(input_shape)\n",
    "# We built it!\n",
    "# number of epochs\n",
    "epochs = 10\n",
    "# Can we train the model?\n",
    "\n"
   ]
  },
  {
   "cell_type": "code",
   "execution_count": 43,
   "metadata": {},
   "outputs": [
    {
     "name": "stdout",
     "output_type": "stream",
     "text": [
      "Epoch 1/10\n",
      "469/469 [==============================] - 10s 20ms/step - loss: 0.0348 - accuracy: 0.9896\n",
      "Epoch 2/10\n",
      "469/469 [==============================] - 10s 22ms/step - loss: 0.0323 - accuracy: 0.9900\n",
      "Epoch 3/10\n",
      "469/469 [==============================] - 10s 21ms/step - loss: 0.0299 - accuracy: 0.9909\n",
      "Epoch 4/10\n",
      "469/469 [==============================] - 10s 21ms/step - loss: 0.0280 - accuracy: 0.9914\n",
      "Epoch 5/10\n",
      "469/469 [==============================] - 10s 22ms/step - loss: 0.0258 - accuracy: 0.9922\n",
      "Epoch 6/10\n",
      "469/469 [==============================] - 11s 23ms/step - loss: 0.0243 - accuracy: 0.9931\n",
      "Epoch 7/10\n",
      "469/469 [==============================] - 11s 24ms/step - loss: 0.0227 - accuracy: 0.9935\n",
      "Epoch 8/10\n",
      "469/469 [==============================] - 11s 23ms/step - loss: 0.0209 - accuracy: 0.9942\n",
      "Epoch 9/10\n",
      "469/469 [==============================] - 12s 25ms/step - loss: 0.0200 - accuracy: 0.9944\n",
      "Epoch 10/10\n",
      "469/469 [==============================] - 10s 21ms/step - loss: 0.0184 - accuracy: 0.9952\n",
      "313/313 [==============================] - 1s 4ms/step - loss: 0.0389 - accuracy: 0.9874\n",
      "ACCURACY: 0.9873999953269958\n"
     ]
    }
   ],
   "source": [
    "history=lenet.fit(x_train,y_train,epochs=epochs,batch_size=128,verbose=1)\n",
    "#history = lenet.fit(x_train, y_train,epochs=epochs,batch _size=128, verbose=1)\n",
    "loss, acc = lenet.evaluate(x_test, y_test)\n",
    "print ('ACCURACY:',acc)\n",
    "# Here is the most important thing to be Learnt!\n",
    "# Epochs - What is it? Simple, Epoch is once all the images are processed one time ir\n",
    "# both forward and backward to the network.\n",
    "# Epoch number can be determined by the Trail and Error."
   ]
  },
  {
   "cell_type": "code",
   "execution_count": 47,
   "metadata": {},
   "outputs": [
    {
     "name": "stdout",
     "output_type": "stream",
     "text": [
      "Training Data (60000, 28, 28) (60000, 10)\n",
      "Training Data (10000, 28, 28) (10000, 10)\n",
      "1/1 [==============================] - 0s 19ms/step\n",
      "6\n"
     ]
    },
    {
     "data": {
      "image/png": "[encoded data removed]",
      "text/plain": [
       "<Figure size 432x288 with 1 Axes>"
      ]
     },
     "metadata": {
      "needs_background": "light"
     },
     "output_type": "display_data"
    }
   ],
   "source": [
    "#Transformation / Reshape into 28x 28 pixel\n",
    "x_train=x_train.reshape(x_train.shape[0], 28,28)\n",
    "print(\"Training Data\",x_train.shape,y_train.shape)\n",
    "\n",
    "x_test=x_test.reshape(x_test.shape[0], 28,28)\n",
    "print(\"Training Data\",x_test.shape,y_test.shape)\n",
    "#to visualize a single image at the index 8888 (6 is in the dataset)\n",
    "image_index = 8888\n",
    "plt.imshow(x_test[image_index].reshape (28, 28),cmap='Greys')\n",
    "#To predict the output using the Lenet model built\n",
    "pred = lenet.predict(x_test[image_index].reshape(1, rows, cols, 1))\n",
    "print(pred.argmax ())\n",
    "#Example 2 image @index 4444 (9 is the number in the dataset)\n",
    "#image_index = 4444\n",
    "#plt.imshow(x_test[image_index].reshape (28, 28), cmap= 'Greys')\n",
    "#pred = lenet.predict(x_test[image_index].reshape(1, rows, cols, 1))\n",
    "#print (pred.argmax ())"
   ]
  },
  {
   "cell_type": "code",
   "execution_count": null,
   "metadata": {},
   "outputs": [],
   "source": []
  }
 ],
 "metadata": {
  "kernelspec": {
   "display_name": "Python 3",
   "language": "python",
   "name": "python3"
  },
  "language_info": {
   "codemirror_mode": {
    "name": "ipython",
    "version": 3
   },
   "file_extension": ".py",
   "mimetype": "text/x-python",
   "name": "python",
   "nbconvert_exporter": "python",
   "pygments_lexer": "ipython3",
   "version": "3.8.5"
  }
 },
 "nbformat": 4,
 "nbformat_minor": 4
}
