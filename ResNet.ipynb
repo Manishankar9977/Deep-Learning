{
  "nbformat": 4,
  "nbformat_minor": 0,
  "metadata": {
    "colab": {
      "provenance": [],
      "collapsed_sections": []
    },
    "kernelspec": {
      "name": "python3",
      "display_name": "Python 3"
    },
    "language_info": {
      "name": "python"
    },
    "accelerator": "GPU"
  },
  "cells": [
    {
      "cell_type": "code",
      "execution_count": null,
      "metadata": {
        "id": "EPQiG6Wq9ln9"
      },
      "outputs": [],
      "source": [
        "import tensorflow as tf\n",
        "from tensorflow import keras\n",
        "import numpy as np\n",
        "from tensorflow.keras.applications import ResNet50\n",
        "from keras.utils import to_categorical"
      ]
    },
    {
      "cell_type": "code",
      "source": [
        "(x_train, y_train), (x_test, y_test) = tf.keras.datasets.cifar10.load_data()"
      ],
      "metadata": {
        "colab": {
          "base_uri": "https://localhost:8080/"
        },
        "id": "JiHZQYoO9o5F",
        "outputId": "2cb6645a-ffbe-4af3-8c99-48d946652ee1"
      },
      "execution_count": null,
      "outputs": [
        {
          "output_type": "stream",
          "name": "stdout",
          "text": [
            "Downloading data from https://www.cs.toronto.edu/~kriz/cifar-10-python.tar.gz\n",
            "170498071/170498071 [==============================] - 14s 0us/step\n"
          ]
        }
      ]
    },
    {
      "cell_type": "code",
      "source": [
        "y_train = to_categorical(y_train, 10)\n",
        "y_test = to_categorical(y_test, 10)"
      ],
      "metadata": {
        "id": "LxEJ0Gl2BMg8"
      },
      "execution_count": null,
      "outputs": []
    },
    {
      "cell_type": "code",
      "source": [
        "from keras.models import Sequential\n",
        "from keras.layers import Dense, Activation, Flatten"
      ],
      "metadata": {
        "id": "LaIxG6SB-Tqb"
      },
      "execution_count": null,
      "outputs": []
    },
    {
      "cell_type": "code",
      "source": [
        "model_resnet_50 = Sequential()\n",
        "model_resnet_50.add(ResNet50(include_top=False,weights=\"imagenet\",input_tensor=None,input_shape=(32,32,3),pooling='avg',classes=10))\n",
        "model_resnet_50.add(Flatten())\n",
        "model_resnet_50.add(Dense(1024, activation='relu'))\n",
        "model_resnet_50.add(Dense(512, activation='relu'))\n",
        "model_resnet_50.add(Dense(10, activation='softmax'))"
      ],
      "metadata": {
        "colab": {
          "base_uri": "https://localhost:8080/"
        },
        "id": "ErHdavDt94BF",
        "outputId": "db1926d4-1560-42d6-ca80-9ba703902a2f"
      },
      "execution_count": null,
      "outputs": [
        {
          "output_type": "stream",
          "name": "stdout",
          "text": [
            "Downloading data from https://storage.googleapis.com/tensorflow/keras-applications/resnet/resnet50_weights_tf_dim_ordering_tf_kernels_notop.h5\n",
            "94765736/94765736 [==============================] - 1s 0us/step\n"
          ]
        }
      ]
    },
    {
      "cell_type": "code",
      "source": [
        "model_resnet_50.compile(loss='categorical_crossentropy',optimizer='adam',metrics=['accuracy'])"
      ],
      "metadata": {
        "id": "ynHi_enW-eSH"
      },
      "execution_count": null,
      "outputs": []
    },
    {
      "cell_type": "code",
      "source": [
        "model_resnet_50.summary()"
      ],
      "metadata": {
        "colab": {
          "base_uri": "https://localhost:8080/"
        },
        "id": "sfWDBvCt-fcS",
        "outputId": "98110121-19c3-4e78-94ac-2ad7f878a461"
      },
      "execution_count": null,
      "outputs": [
        {
          "output_type": "stream",
          "name": "stdout",
          "text": [
            "Model: \"sequential\"\n",
            "_________________________________________________________________\n",
            " Layer (type)                Output Shape              Param #   \n",
            "=================================================================\n",
            " resnet50 (Functional)       (None, 2048)              23587712  \n",
            "                                                                 \n",
            " flatten (Flatten)           (None, 2048)              0         \n",
            "                                                                 \n",
            " dense (Dense)               (None, 1024)              2098176   \n",
            "                                                                 \n",
            " dense_1 (Dense)             (None, 512)               524800    \n",
            "                                                                 \n",
            " dense_2 (Dense)             (None, 10)                5130      \n",
            "                                                                 \n",
            "=================================================================\n",
            "Total params: 26,215,818\n",
            "Trainable params: 26,162,698\n",
            "Non-trainable params: 53,120\n",
            "_________________________________________________________________\n"
          ]
        }
      ]
    },
    {
      "cell_type": "code",
      "source": [
        "model_resnet_50.fit(x_train, y_train, batch_size=128, epochs=20, verbose=1, validation_data=(x_test, y_test))"
      ],
      "metadata": {
        "colab": {
          "base_uri": "https://localhost:8080/"
        },
        "id": "J1kJbaJ--mSE",
        "outputId": "5ba5f760-e110-4f94-8312-9a3dcfe7828e"
      },
      "execution_count": null,
      "outputs": [
        {
          "output_type": "stream",
          "name": "stdout",
          "text": [
            "Epoch 1/20\n",
            "391/391 [==============================] - 43s 71ms/step - loss: 1.0625 - accuracy: 0.6500 - val_loss: 1.4121 - val_accuracy: 0.6296\n",
            "Epoch 2/20\n",
            "391/391 [==============================] - 24s 63ms/step - loss: 0.6709 - accuracy: 0.7805 - val_loss: 1.5043 - val_accuracy: 0.5807\n",
            "Epoch 3/20\n",
            "391/391 [==============================] - 24s 63ms/step - loss: 0.5409 - accuracy: 0.8209 - val_loss: 0.9483 - val_accuracy: 0.6972\n",
            "Epoch 4/20\n",
            "391/391 [==============================] - 25s 63ms/step - loss: 0.4464 - accuracy: 0.8514 - val_loss: 0.7217 - val_accuracy: 0.7703\n",
            "Epoch 5/20\n",
            "391/391 [==============================] - 25s 64ms/step - loss: 0.3745 - accuracy: 0.8775 - val_loss: 0.7770 - val_accuracy: 0.7682\n",
            "Epoch 6/20\n",
            "391/391 [==============================] - 25s 64ms/step - loss: 0.3227 - accuracy: 0.8919 - val_loss: 1.0427 - val_accuracy: 0.7185\n",
            "Epoch 7/20\n",
            "391/391 [==============================] - 25s 64ms/step - loss: 0.2730 - accuracy: 0.9093 - val_loss: 0.9154 - val_accuracy: 0.7395\n",
            "Epoch 8/20\n",
            "391/391 [==============================] - 25s 64ms/step - loss: 0.2321 - accuracy: 0.9224 - val_loss: 0.8120 - val_accuracy: 0.7593\n",
            "Epoch 9/20\n",
            "391/391 [==============================] - 25s 64ms/step - loss: 0.2034 - accuracy: 0.9326 - val_loss: 0.8875 - val_accuracy: 0.7581\n",
            "Epoch 10/20\n",
            "391/391 [==============================] - 25s 64ms/step - loss: 0.1794 - accuracy: 0.9410 - val_loss: 1.0249 - val_accuracy: 0.7433\n",
            "Epoch 11/20\n",
            "391/391 [==============================] - 25s 64ms/step - loss: 0.1524 - accuracy: 0.9499 - val_loss: 0.9141 - val_accuracy: 0.7612\n",
            "Epoch 12/20\n",
            "391/391 [==============================] - 25s 64ms/step - loss: 0.1551 - accuracy: 0.9491 - val_loss: 0.9868 - val_accuracy: 0.7414\n",
            "Epoch 13/20\n",
            "391/391 [==============================] - 25s 64ms/step - loss: 0.1258 - accuracy: 0.9593 - val_loss: 1.1628 - val_accuracy: 0.7310\n",
            "Epoch 14/20\n",
            "391/391 [==============================] - 25s 64ms/step - loss: 0.1119 - accuracy: 0.9631 - val_loss: 1.2212 - val_accuracy: 0.7353\n",
            "Epoch 15/20\n",
            "391/391 [==============================] - 25s 64ms/step - loss: 0.1085 - accuracy: 0.9642 - val_loss: 1.1554 - val_accuracy: 0.7411\n",
            "Epoch 16/20\n",
            "391/391 [==============================] - 25s 64ms/step - loss: 0.0984 - accuracy: 0.9684 - val_loss: 0.9596 - val_accuracy: 0.7802\n",
            "Epoch 17/20\n",
            "391/391 [==============================] - 25s 64ms/step - loss: 0.0991 - accuracy: 0.9662 - val_loss: 1.0265 - val_accuracy: 0.7671\n",
            "Epoch 18/20\n",
            "391/391 [==============================] - 26s 67ms/step - loss: 0.0852 - accuracy: 0.9729 - val_loss: 0.8731 - val_accuracy: 0.7970\n",
            "Epoch 19/20\n",
            "391/391 [==============================] - 25s 64ms/step - loss: 0.0829 - accuracy: 0.9735 - val_loss: 1.0621 - val_accuracy: 0.7792\n",
            "Epoch 20/20\n",
            "391/391 [==============================] - 26s 67ms/step - loss: 0.0882 - accuracy: 0.9720 - val_loss: 1.2333 - val_accuracy: 0.7487\n"
          ]
        },
        {
          "output_type": "execute_result",
          "data": {
            "text/plain": [
              "<keras.callbacks.History at 0x7fb4da3df850>"
            ]
          },
          "metadata": {},
          "execution_count": 8
        }
      ]
    },
    {
      "cell_type": "code",
      "source": [
        "loss, accuracy = model_resnet_50.evaluate(x_test, y_test, batch_size=64)"
      ],
      "metadata": {
        "colab": {
          "base_uri": "https://localhost:8080/"
        },
        "id": "M3e_GkXcDB_H",
        "outputId": "bcc3032e-1d7e-4a24-f3c7-1d899a95df14"
      },
      "execution_count": null,
      "outputs": [
        {
          "output_type": "stream",
          "name": "stdout",
          "text": [
            "157/157 [==============================] - 4s 20ms/step - loss: 1.2333 - accuracy: 0.7487\n"
          ]
        }
      ]
    },
    {
      "cell_type": "code",
      "source": [
        "Actual = np.argmax(model_resnet_50.predict(x_test),axis=1)\n",
        "Actual"
      ],
      "metadata": {
        "colab": {
          "base_uri": "https://localhost:8080/"
        },
        "id": "zkEiLFN4DCsj",
        "outputId": "e0b2d68c-4c67-4549-a29e-da6700b8557e"
      },
      "execution_count": null,
      "outputs": [
        {
          "output_type": "stream",
          "name": "stdout",
          "text": [
            "313/313 [==============================] - 3s 11ms/step\n"
          ]
        },
        {
          "output_type": "execute_result",
          "data": {
            "text/plain": [
              "array([3, 8, 8, ..., 5, 1, 7])"
            ]
          },
          "metadata": {},
          "execution_count": 11
        }
      ]
    },
    {
      "cell_type": "code",
      "source": [
        "for i in range(len(y_test)):\n",
        "  print(\"X = %s, Predicted = %s\" % (y_test[i], Actual[i]))"
      ],
      "metadata": {
        "id": "VqmhHWpfDEuP"
      },
      "execution_count": null,
      "outputs": []
    },
    {
      "cell_type": "code",
      "source": [],
      "metadata": {
        "id": "rgS0CxZBDIF9"
      },
      "execution_count": null,
      "outputs": []
    }
  ]
}